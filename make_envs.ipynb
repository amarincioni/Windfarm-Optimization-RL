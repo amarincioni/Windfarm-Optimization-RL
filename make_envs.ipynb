{
 "cells": [
  {
   "cell_type": "code",
   "execution_count": null,
   "metadata": {},
   "outputs": [],
   "source": [
    "from env_utils import get_lhs_points, get_grid_points\n",
    "\n",
    "import numpy as np\n",
    "import matplotlib.pyplot as plt\n",
    "\n",
    "def save_lhs_layout(num_turbines=16, windfarm_bounds=[1500, 1500]):\n",
    "    env = \"lhs_env\"\n",
    "    layout_name = f\"{env}_nt{num_turbines}_wb{windfarm_bounds[0]}x{windfarm_bounds[1]}\"\n",
    "\n",
    "    turbine_layout = get_lhs_points(num_turbines, windfarm_bounds)\n",
    "    # mast_layout = get_grid_points(windfarm_bounds[0], windfarm_bounds[1], mast_distancing)\n",
    "\n",
    "    # plot the turbine layout, and masts with and x\n",
    "    plt.scatter(turbine_layout[0], turbine_layout[1])\n",
    "    #plt.scatter(mast_layout[0], mast_layout[1], marker='x')\n",
    "    plt.axis('scaled')\n",
    "    plt.savefig(f\"data/layouts/{layout_name}.png\")\n",
    "    plt.show()\n",
    "\n",
    "    # save the layout\n",
    "    np.save(f\"data/layouts/{layout_name}_turbine_layout.npy\", turbine_layout)\n",
    "    # Mast layout can always be computed from the windfarm bounds and mast distancing\n",
    "    # np.save(f\"data/layouts/{layout_name}_mast_layout.npy\", mast_layout)\n",
    "\n",
    "# Environment layout settings\n",
    "# Commented environments have already been saved\n",
    "#save_lhs_layout(num_turbines=16, windfarm_bounds=[1500, 1500], mast_distancing=75)\n",
    "#save_lhs_layout(num_turbines=8, windfarm_bounds=[750, 750], mast_distancing=75)\n",
    "#save_lhs_layout(num_turbines=8, windfarm_bounds=[750, 750], mast_distancing=100)\n",
    "#save_lhs_layout(num_turbines=8, windfarm_bounds=[750, 750], mast_distancing=150)\n",
    "save_lhs_layout(num_turbines=8, windfarm_bounds=[750, 750])\n",
    "save_lhs_layout(num_turbines=16, windfarm_bounds=[750, 750])\n"
   ]
  },
  {
   "cell_type": "markdown",
   "metadata": {},
   "source": [
    "### Make wind process sequences for the evaluation process"
   ]
  },
  {
   "cell_type": "code",
   "execution_count": null,
   "metadata": {},
   "outputs": [],
   "source": [
    "import numpy as np\n",
    "from config import WIND_SPEED_RANGE, WIND_DIRECTION_CHANGE_RANGE, WIND_SPEED_CHANGE_RANGE\n",
    "\n",
    "NUM_SEUQENCES = 100\n",
    "NUM_STEPS_PER_SEUQENCE = 100\n",
    "speeds = np.zeros((NUM_SEUQENCES, NUM_STEPS_PER_SEUQENCE+1))\n",
    "directions = np.zeros((NUM_SEUQENCES, NUM_STEPS_PER_SEUQENCE+1))\n",
    "for i in range(NUM_SEUQENCES):\n",
    "    direction = np.random.randint(0, 360)\n",
    "    speed = np.random.uniform(*WIND_SPEED_RANGE)\n",
    "    speeds[i, 0] = speed\n",
    "    directions[i, 0] = direction\n",
    "    for j in range(NUM_STEPS_PER_SEUQENCE):\n",
    "        direction = (direction + np.random.randint(*WIND_DIRECTION_CHANGE_RANGE)) % 360\n",
    "        speed = np.clip(speed + np.random.uniform(*WIND_SPEED_CHANGE_RANGE), *WIND_SPEED_RANGE)\n",
    "        speeds[i, j+1] = speed\n",
    "        directions[i, j+1] = direction\n",
    "\n",
    "# Commented out to avoid overwriting the data\n",
    "\n",
    "# # Save the wind data\n",
    "# np.save(\"data/eval/wind_speeds.npy\", speeds)\n",
    "# np.save(\"data/eval/wind_directions.npy\", directions)\n",
    "# print(\"Saved wind data\")\n",
    "# print(\"Wind direction shape:\", directions.shape)\n",
    "# print(\"Wind speed shape:\", speeds.shape)\n"
   ]
  },
  {
   "cell_type": "code",
   "execution_count": null,
   "metadata": {},
   "outputs": [],
   "source": [
    "x = np.load(\"data/eval/wind_speeds.npy\")\t\n",
    "print(x.shape)\n",
    "print(x)\n",
    "# Set rows to first of column\n",
    "x = np.einsum('ij,i->ij', np.ones_like(x), x[:,0])\n",
    "print(x.shape)\n",
    "print(x[0, :5])\n",
    "print(x[1, :5])"
   ]
  }
 ],
 "metadata": {
  "kernelspec": {
   "display_name": "windfarm",
   "language": "python",
   "name": "python3"
  },
  "language_info": {
   "codemirror_mode": {
    "name": "ipython",
    "version": 3
   },
   "file_extension": ".py",
   "mimetype": "text/x-python",
   "name": "python",
   "nbconvert_exporter": "python",
   "pygments_lexer": "ipython3",
   "version": "3.8.19"
  }
 },
 "nbformat": 4,
 "nbformat_minor": 2
}
