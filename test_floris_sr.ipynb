{
 "cells": [
  {
   "cell_type": "code",
   "execution_count": null,
   "metadata": {},
   "outputs": [],
   "source": [
    "from test_floris_sr_utils import optimize_florissr\n",
    "import numpy as np\n",
    "\n",
    "layout_4wt = ([0.0, 250.0, 0.0, 250.0], [0.0, 0.0, 250.0, 250.0])\n",
    "layout_8lhs = np.load(\"data/layouts/lhs_env_nt8_md150_wb750x750_turbine_layout.npy\")\n",
    "layout_16lhs = np.load(\"data/layouts/lhs_env_nt16_md75_wb1500x1500_turbine_layout.npy\")\n",
    "\n",
    "# optimize_florissr(layout_4wt, \"serial_refine/4wt\", \"4 symmetric\")\n",
    "# optimize_florissr(layout_8lhs, \"serial_refine/8lhs\", \"8 LHS\")\n",
    "optimize_florissr(layout_16lhs, \"serial_refine/16lhs\", \"16 LHS\")"
   ]
  },
  {
   "cell_type": "code",
   "execution_count": null,
   "metadata": {},
   "outputs": [],
   "source": [
    "import numpy as np\n",
    "import matplotlib.pyplot as plt\n",
    "\n",
    "layout_names = [\"serial_refine/4wt\", \"serial_refine/8lhs\", \"serial_refine/16lhs\"]\n",
    "layout_title_names = [\"4 symmetric\", \"8 LHS\", \"16 LHS\"]\n",
    "\n",
    "for layout_name, layout_title_name in zip(layout_names, layout_title_names):\n",
    "    geo_farm_power = np.load(f\"data/{layout_name}_geo_farm_power.npy\")\n",
    "    df_opt_sr = np.load(f\"data/{layout_name}_sr_farm_power.npy\")\n",
    "    df_opt_scipy = np.load(f\"data/{layout_name}_scipy_farm_power.npy\")\n",
    "    df_opt_baseline = np.load(f\"data/{layout_name}_baseline_farm_power.npy\")\n",
    "\n",
    "    total_power_uplift_geo = np.sum(geo_farm_power - df_opt_baseline)\n",
    "    total_power_uplift_sr = np.sum(df_opt_sr - df_opt_baseline)\n",
    "    total_power_uplift_scipy = np.sum(df_opt_scipy - df_opt_baseline)\n",
    "\n",
    "    fig, axarr = plt.subplots(1,1,figsize=(5,5))\n",
    "\n",
    "    ax = axarr\n",
    "    ax.bar(\n",
    "        [0, 1, 2],\n",
    "        [\n",
    "            total_power_uplift_geo / total_power_uplift_scipy,\n",
    "            total_power_uplift_sr / total_power_uplift_scipy,\n",
    "            1.0,\n",
    "        ],\n",
    "        color=['m', 'r', 'g'],\n",
    "    )\n",
    "    ax.set_xticks([0, 1, 2])\n",
    "    ax.set_xticklabels(['Geometric', 'Serial Refine', 'SLSQP'])\n",
    "    ax.set_ylabel('Normalized Power Gain')\n",
    "    ax.grid(True)\n",
    "    plt.title(f\"Normalized power gain for layout {layout_title_name}\")\n",
    "    plt.savefig(f\"./figures/used/{layout_name}_power_gain.png\")\n",
    "    plt.show()"
   ]
  },
  {
   "cell_type": "code",
   "execution_count": null,
   "metadata": {},
   "outputs": [],
   "source": [
    "from serial_refine_agent import plot_yaw_angles\n",
    "\n",
    "for layout in [\"serial_refine/4wt\", \"serial_refine/8lhs\", \"serial_refine/16lhs\"]:\n",
    "    optimal_yaws = np.load(f\"data/{layout}/yaw_angles_opt_sr.npy\")\n",
    "    wind_directions = np.linspace(0, 360, 120)\n",
    "    plot_yaw_angles(\"serial_refine\", wind_directions, optimal_yaws)"
   ]
  },
  {
   "cell_type": "markdown",
   "metadata": {},
   "source": [
    "# Rendering in the environment"
   ]
  },
  {
   "cell_type": "code",
   "execution_count": null,
   "metadata": {},
   "outputs": [],
   "source": [
    "# Wind process that implements a sequence of wind speeds and directions\n",
    "from wind_processes import SetSequenceWindProcess"
   ]
  },
  {
   "cell_type": "code",
   "execution_count": null,
   "metadata": {},
   "outputs": [],
   "source": [
    "from env_utils import get_4wt_symmetric_env\n",
    "\n",
    "env = get_4wt_symmetric_env(episode_length=100, privileged=False, action_representation=\"yaw\", load_pyglet_visualization=True)\n",
    "repeat = 10\n",
    "middle_angle = 226\n",
    "offset = 5\n",
    "starting_time_offset = 40\n",
    "wind_directions = [middle_angle-offset]*starting_time_offset\n",
    "for i in range(offset*2):\n",
    "    wind_directions.extend([middle_angle + (i - offset)]*repeat)\n",
    "env.wind_process = SetSequenceWindProcess(wind_directions=wind_directions, wind_speeds=[8.]*len(wind_directions))\n",
    "print(wind_directions)\n",
    "# Get proportional controller\n",
    "from serial_refine_agent import SR_ProportionalController\n",
    "\n",
    "agent = SR_ProportionalController()\n",
    "\n",
    "# Run the environment\n",
    "done = False\n",
    "imgs = []\n",
    "obs = env.reset()\n",
    "for i in range(100):\n",
    "    wind_direction = env.wind_process.wind_direction\n",
    "    current_yaws = env.yaws_from_wind\n",
    "\n",
    "    action = agent.predict(wind_direction, current_yaws)\n",
    "    obs, reward, terminated, truncated, info = env.step(action)\n",
    "\n",
    "    env.render()\n",
    "    imgs.append(env.render(mode='rgb_array'))\n",
    "    if terminated or truncated:\n",
    "        break"
   ]
  },
  {
   "cell_type": "code",
   "execution_count": null,
   "metadata": {},
   "outputs": [],
   "source": [
    "from PIL import Image\n",
    "\n",
    "ofs_top = 0\n",
    "l = 300\n",
    "imgs_pil = [Image.fromarray(img[ofs_top:ofs_top+l, ofs_top+7:ofs_top+l]) for img in imgs]\n",
    "\n",
    "# Save gif\n",
    "imgs_pil[starting_time_offset].save(\"data/serial_refine/critical_angle.gif\", save_all=True, append_images=imgs_pil[starting_time_offset+1:], loop=0, duration=100)"
   ]
  }
 ],
 "metadata": {
  "kernelspec": {
   "display_name": "wf_floris4",
   "language": "python",
   "name": "python3"
  },
  "language_info": {
   "codemirror_mode": {
    "name": "ipython",
    "version": 3
   },
   "file_extension": ".py",
   "mimetype": "text/x-python",
   "name": "python",
   "nbconvert_exporter": "python",
   "pygments_lexer": "ipython3",
   "version": "3.9.19"
  }
 },
 "nbformat": 4,
 "nbformat_minor": 2
}
