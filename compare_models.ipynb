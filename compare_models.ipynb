{
 "cells": [
  {
   "cell_type": "code",
   "execution_count": 2,
   "metadata": {},
   "outputs": [
    {
     "name": "stderr",
     "output_type": "stream",
     "text": [
      "2024-10-16 01:58:31.909788: I tensorflow/core/util/port.cc:110] oneDNN custom operations are on. You may see slightly different numerical results due to floating-point round-off errors from different computation orders. To turn them off, set the environment variable `TF_ENABLE_ONEDNN_OPTS=0`.\n",
      "2024-10-16 01:58:31.913080: I tensorflow/tsl/cuda/cudart_stub.cc:28] Could not find cuda drivers on your machine, GPU will not be used.\n",
      "2024-10-16 01:58:32.004319: I tensorflow/core/platform/cpu_feature_guard.cc:182] This TensorFlow binary is optimized to use available CPU instructions in performance-critical operations.\n",
      "To enable the following instructions: AVX2 AVX512F AVX512_VNNI FMA, in other operations, rebuild TensorFlow with the appropriate compiler flags.\n",
      "2024-10-16 01:58:33.587247: W tensorflow/compiler/tf2tensorrt/utils/py_utils.cc:38] TF-TRT Warning: Could not find TensorRT\n"
     ]
    }
   ],
   "source": [
    "from config import EPISODE_LEN\n",
    "from env_utils import get_4wt_symmetric_env\n",
    "from stable_baselines3 import PPO\n",
    "import numpy as np\n",
    "import tqdm\n",
    "\n",
    "evaluations = 100"
   ]
  },
  {
   "cell_type": "markdown",
   "metadata": {},
   "source": [
    "# Evaluate PPO models"
   ]
  },
  {
   "cell_type": "code",
   "execution_count": 11,
   "metadata": {},
   "outputs": [
    {
     "name": "stdout",
     "output_type": "stream",
     "text": [
      "Run count: 1\n",
      "Wind speed: 1.3709907296262323\n",
      "Wind direction: 285\n",
      "4\n",
      "None\n"
     ]
    },
    {
     "name": "stderr",
     "output_type": "stream",
     "text": [
      "  1%|          | 1/100 [00:03<05:14,  3.18s/it]"
     ]
    },
    {
     "name": "stdout",
     "output_type": "stream",
     "text": [
      "Run count: 2\n",
      "Wind speed: 5.434266187116561\n",
      "Wind direction: 207\n"
     ]
    },
    {
     "name": "stderr",
     "output_type": "stream",
     "text": [
      "  2%|▏         | 2/100 [00:06<05:27,  3.34s/it]"
     ]
    },
    {
     "name": "stdout",
     "output_type": "stream",
     "text": [
      "Run count: 3\n",
      "Wind speed: 7.685352502128577\n",
      "Wind direction: 344\n"
     ]
    },
    {
     "name": "stderr",
     "output_type": "stream",
     "text": [
      "/home/maranc/miniconda3/envs/windfarm/lib/python3.8/site-packages/floris/simulation/wake_deflection/gauss.py:209: RuntimeWarning: invalid value encountered in sqrt\n",
      "  ln_deltaNum = (1.6 + np.sqrt(M0)) * (\n",
      "/home/maranc/miniconda3/envs/windfarm/lib/python3.8/site-packages/floris/simulation/wake_deflection/gauss.py:210: RuntimeWarning: invalid value encountered in sqrt\n",
      "  1.6 * np.sqrt(sigma_y * sigma_z / (sigma_y0 * sigma_z0)) - np.sqrt(M0)\n",
      "/home/maranc/miniconda3/envs/windfarm/lib/python3.8/site-packages/floris/simulation/wake_deflection/gauss.py:212: RuntimeWarning: invalid value encountered in sqrt\n",
      "  ln_deltaDen = (1.6 - np.sqrt(M0)) * (\n",
      "/home/maranc/miniconda3/envs/windfarm/lib/python3.8/site-packages/floris/simulation/wake_deflection/gauss.py:213: RuntimeWarning: invalid value encountered in sqrt\n",
      "  1.6 * np.sqrt(sigma_y * sigma_z / (sigma_y0 * sigma_z0)) + np.sqrt(M0)\n",
      "/home/maranc/miniconda3/envs/windfarm/lib/python3.8/site-packages/floris/simulation/wake_velocity/gaussianModels/gauss_legacy.py:173: RuntimeWarning: invalid value encountered in sqrt\n",
      "  sigma_y = (((x0 - xR) - (x_locations - xR)) / (x0 - xR)) * 0.501 * D * np.sqrt(\n",
      "/home/maranc/miniconda3/envs/windfarm/lib/python3.8/site-packages/floris/simulation/wake_velocity/gaussianModels/gauss_legacy.py:176: RuntimeWarning: invalid value encountered in sqrt\n",
      "  sigma_z = (((x0 - xR) - (x_locations - xR)) / (x0 - xR)) * 0.501 * D * np.sqrt(\n",
      "/home/maranc/miniconda3/envs/windfarm/lib/python3.8/site-packages/floris/simulation/wake_turbulence/crespo_hernandez.py:93: RuntimeWarning: invalid value encountered in scalar power\n",
      "  * turbine.aI ** self.ti_ai\n",
      "/home/maranc/miniconda3/envs/windfarm/lib/python3.8/site-packages/numpy/core/fromnumeric.py:3464: RuntimeWarning: Mean of empty slice.\n",
      "  return _methods._mean(a, axis=axis, dtype=dtype,\n",
      "/home/maranc/miniconda3/envs/windfarm/lib/python3.8/site-packages/numpy/core/_methods.py:192: RuntimeWarning: invalid value encountered in scalar divide\n",
      "  ret = ret.dtype.type(ret / rcount)\n",
      "/home/maranc/miniconda3/envs/windfarm/lib/python3.8/site-packages/floris/simulation/turbine.py:692: RuntimeWarning: invalid value encountered in scalar power\n",
      "  yaw_effective_velocity = self.average_velocity * cosd(self.yaw_angle) ** pW\n",
      "/home/maranc/miniconda3/envs/windfarm/lib/python3.8/site-packages/floris/simulation/wake_deflection/gauss.py:219: RuntimeWarning: invalid value encountered in sqrt\n",
      "  * np.sqrt(sigma_y0 * sigma_z0 / (ky * kz * M0))\n",
      "/home/maranc/miniconda3/envs/windfarm/lib/python3.8/site-packages/floris/simulation/wake_deflection/gauss.py:156: RuntimeWarning: divide by zero encountered in divide\n",
      "  U_local\n",
      "/home/maranc/miniconda3/envs/windfarm/lib/python3.8/site-packages/floris/simulation/wake_deflection/gauss.py:181: RuntimeWarning: invalid value encountered in sqrt\n",
      "  sigma_z0 = D * 0.5 * np.sqrt(uR / (U_local + u0))\n",
      "/home/maranc/miniconda3/envs/windfarm/lib/python3.8/site-packages/floris/simulation/wake_velocity/gaussianModels/gaussian_model_base.py:516: RuntimeWarning: divide by zero encountered in divide\n",
      "  uR = U_local * Ct / (2.0 * (1 - np.sqrt(1 - Ct)))\n",
      "/home/maranc/miniconda3/envs/windfarm/lib/python3.8/site-packages/floris/simulation/wake_velocity/gaussianModels/gauss_legacy.py:175: RuntimeWarning: invalid value encountered in multiply\n",
      "  ) + ((x_locations - xR) / (x0 - xR)) * sigma_y0\n",
      "/home/maranc/miniconda3/envs/windfarm/lib/python3.8/site-packages/floris/simulation/wake_velocity/gaussianModels/gauss_legacy.py:178: RuntimeWarning: invalid value encountered in multiply\n",
      "  ) + ((x_locations - xR) / (x0 - xR)) * sigma_z0\n",
      "/home/maranc/miniconda3/envs/windfarm/lib/python3.8/site-packages/floris/simulation/turbine.py:406: RuntimeWarning: divide by zero encountered in scalar divide\n",
      "  total_turbulence_intensity = (\n",
      "/home/maranc/miniconda3/envs/windfarm/lib/python3.8/site-packages/floris/simulation/wake_velocity/gaussianModels/gauss_legacy.py:173: RuntimeWarning: invalid value encountered in divide\n",
      "  sigma_y = (((x0 - xR) - (x_locations - xR)) / (x0 - xR)) * 0.501 * D * np.sqrt(\n",
      "/home/maranc/miniconda3/envs/windfarm/lib/python3.8/site-packages/floris/simulation/wake_velocity/gaussianModels/gauss_legacy.py:175: RuntimeWarning: invalid value encountered in divide\n",
      "  ) + ((x_locations - xR) / (x0 - xR)) * sigma_y0\n",
      "/home/maranc/miniconda3/envs/windfarm/lib/python3.8/site-packages/floris/simulation/wake_velocity/gaussianModels/gauss_legacy.py:176: RuntimeWarning: invalid value encountered in divide\n",
      "  sigma_z = (((x0 - xR) - (x_locations - xR)) / (x0 - xR)) * 0.501 * D * np.sqrt(\n",
      "/home/maranc/miniconda3/envs/windfarm/lib/python3.8/site-packages/floris/simulation/wake_velocity/gaussianModels/gauss_legacy.py:178: RuntimeWarning: invalid value encountered in divide\n",
      "  ) + ((x_locations - xR) / (x0 - xR)) * sigma_z0\n",
      "/home/maranc/miniconda3/envs/windfarm/lib/python3.8/site-packages/floris/simulation/wake_velocity/gaussianModels/gauss_legacy.py:201: RuntimeWarning: invalid value encountered in multiply\n",
      "  sigma_y = ky * (x_locations - x0) + sigma_y0\n",
      "/home/maranc/miniconda3/envs/windfarm/lib/python3.8/site-packages/floris/simulation/wake_velocity/gaussianModels/gauss_legacy.py:202: RuntimeWarning: invalid value encountered in multiply\n",
      "  sigma_z = kz * (x_locations - x0) + sigma_z0\n",
      "  3%|▎         | 3/100 [00:10<05:27,  3.38s/it]"
     ]
    },
    {
     "name": "stdout",
     "output_type": "stream",
     "text": [
      "Run count: 4\n",
      "Wind speed: 14.685582381943165\n",
      "Wind direction: 269\n"
     ]
    },
    {
     "name": "stderr",
     "output_type": "stream",
     "text": [
      "  4%|▍         | 4/100 [00:13<05:28,  3.42s/it]"
     ]
    },
    {
     "name": "stdout",
     "output_type": "stream",
     "text": [
      "Run count: 5\n",
      "Wind speed: 21.47473132533486\n",
      "Wind direction: 237\n"
     ]
    },
    {
     "name": "stderr",
     "output_type": "stream",
     "text": [
      "  5%|▌         | 5/100 [00:17<05:30,  3.48s/it]"
     ]
    },
    {
     "name": "stdout",
     "output_type": "stream",
     "text": [
      "Run count: 6\n",
      "Wind speed: 23.339164242810693\n",
      "Wind direction: 287\n"
     ]
    },
    {
     "name": "stderr",
     "output_type": "stream",
     "text": [
      "  6%|▌         | 6/100 [00:20<05:27,  3.49s/it]"
     ]
    },
    {
     "name": "stdout",
     "output_type": "stream",
     "text": [
      "Run count: 7\n",
      "Wind speed: 17.311329666489193\n",
      "Wind direction: 31\n"
     ]
    },
    {
     "name": "stderr",
     "output_type": "stream",
     "text": [
      "/home/maranc/miniconda3/envs/windfarm/lib/python3.8/site-packages/floris/simulation/wake_deflection/gauss.py:210: RuntimeWarning: invalid value encountered in divide\n",
      "  1.6 * np.sqrt(sigma_y * sigma_z / (sigma_y0 * sigma_z0)) - np.sqrt(M0)\n",
      "/home/maranc/miniconda3/envs/windfarm/lib/python3.8/site-packages/floris/simulation/wake_deflection/gauss.py:213: RuntimeWarning: invalid value encountered in divide\n",
      "  1.6 * np.sqrt(sigma_y * sigma_z / (sigma_y0 * sigma_z0)) + np.sqrt(M0)\n",
      "/home/maranc/miniconda3/envs/windfarm/lib/python3.8/site-packages/floris/simulation/wake_deflection/gauss.py:218: RuntimeWarning: invalid value encountered in multiply\n",
      "  + (theta_c0 * E0 / 5.2)\n",
      "/home/maranc/miniconda3/envs/windfarm/lib/python3.8/site-packages/floris/simulation/wake_velocity/gaussianModels/gauss_legacy.py:173: RuntimeWarning: divide by zero encountered in divide\n",
      "  sigma_y = (((x0 - xR) - (x_locations - xR)) / (x0 - xR)) * 0.501 * D * np.sqrt(\n",
      "/home/maranc/miniconda3/envs/windfarm/lib/python3.8/site-packages/floris/simulation/wake_velocity/gaussianModels/gauss_legacy.py:175: RuntimeWarning: divide by zero encountered in divide\n",
      "  ) + ((x_locations - xR) / (x0 - xR)) * sigma_y0\n",
      "/home/maranc/miniconda3/envs/windfarm/lib/python3.8/site-packages/floris/simulation/wake_velocity/gaussianModels/gauss_legacy.py:176: RuntimeWarning: divide by zero encountered in divide\n",
      "  sigma_z = (((x0 - xR) - (x_locations - xR)) / (x0 - xR)) * 0.501 * D * np.sqrt(\n",
      "/home/maranc/miniconda3/envs/windfarm/lib/python3.8/site-packages/floris/simulation/wake_velocity/gaussianModels/gauss_legacy.py:178: RuntimeWarning: divide by zero encountered in divide\n",
      "  ) + ((x_locations - xR) / (x0 - xR)) * sigma_z0\n",
      "/home/maranc/miniconda3/envs/windfarm/lib/python3.8/site-packages/floris/simulation/wake_deflection/gauss.py:220: RuntimeWarning: invalid value encountered in log\n",
      "  * np.log(ln_deltaNum / ln_deltaDen)\n",
      "  7%|▋         | 7/100 [00:24<05:23,  3.48s/it]"
     ]
    },
    {
     "name": "stdout",
     "output_type": "stream",
     "text": [
      "Run count: 8\n",
      "Wind speed: 14.56262462322271\n",
      "Wind direction: 136\n"
     ]
    },
    {
     "name": "stderr",
     "output_type": "stream",
     "text": [
      "  8%|▊         | 8/100 [00:27<05:21,  3.49s/it]"
     ]
    },
    {
     "name": "stdout",
     "output_type": "stream",
     "text": [
      "Run count: 9\n",
      "Wind speed: 21.727946671350825\n",
      "Wind direction: 87\n"
     ]
    },
    {
     "name": "stderr",
     "output_type": "stream",
     "text": [
      "  9%|▉         | 9/100 [00:31<05:19,  3.51s/it]"
     ]
    },
    {
     "name": "stdout",
     "output_type": "stream",
     "text": [
      "Run count: 10\n",
      "Wind speed: 18.445343161677837\n",
      "Wind direction: 59\n"
     ]
    },
    {
     "name": "stderr",
     "output_type": "stream",
     "text": [
      " 10%|█         | 10/100 [00:34<05:15,  3.50s/it]"
     ]
    },
    {
     "name": "stdout",
     "output_type": "stream",
     "text": [
      "Run count: 11\n",
      "Wind speed: 18.99558949894107\n",
      "Wind direction: 281\n"
     ]
    },
    {
     "name": "stderr",
     "output_type": "stream",
     "text": [
      " 11%|█         | 11/100 [00:38<05:10,  3.49s/it]"
     ]
    },
    {
     "name": "stdout",
     "output_type": "stream",
     "text": [
      "Run count: 12\n",
      "Wind speed: 19.476332698736478\n",
      "Wind direction: 9\n"
     ]
    },
    {
     "name": "stderr",
     "output_type": "stream",
     "text": [
      "/home/maranc/miniconda3/envs/windfarm/lib/python3.8/site-packages/floris/simulation/wake_velocity/gaussianModels/gauss_legacy.py:173: RuntimeWarning: invalid value encountered in add\n",
      "  sigma_y = (((x0 - xR) - (x_locations - xR)) / (x0 - xR)) * 0.501 * D * np.sqrt(\n",
      "/home/maranc/miniconda3/envs/windfarm/lib/python3.8/site-packages/floris/simulation/wake_velocity/gaussianModels/gauss_legacy.py:176: RuntimeWarning: invalid value encountered in add\n",
      "  sigma_z = (((x0 - xR) - (x_locations - xR)) / (x0 - xR)) * 0.501 * D * np.sqrt(\n",
      " 12%|█▏        | 12/100 [00:41<05:05,  3.47s/it]"
     ]
    },
    {
     "name": "stdout",
     "output_type": "stream",
     "text": [
      "Run count: 13\n",
      "Wind speed: 3.2939007577399044\n",
      "Wind direction: 33\n"
     ]
    },
    {
     "name": "stderr",
     "output_type": "stream",
     "text": [
      " 13%|█▎        | 13/100 [00:44<04:58,  3.43s/it]"
     ]
    },
    {
     "name": "stdout",
     "output_type": "stream",
     "text": [
      "Run count: 14\n",
      "Wind speed: 11.71855055294479\n",
      "Wind direction: 41\n"
     ]
    },
    {
     "name": "stderr",
     "output_type": "stream",
     "text": [
      " 14%|█▍        | 14/100 [00:48<04:53,  3.41s/it]"
     ]
    },
    {
     "name": "stdout",
     "output_type": "stream",
     "text": [
      "Run count: 15\n",
      "Wind speed: 8.925168277077727\n",
      "Wind direction: 133\n"
     ]
    },
    {
     "name": "stderr",
     "output_type": "stream",
     "text": [
      " 15%|█▌        | 15/100 [00:51<04:41,  3.31s/it]"
     ]
    },
    {
     "name": "stdout",
     "output_type": "stream",
     "text": [
      "Run count: 16\n",
      "Wind speed: 18.325535468904512\n",
      "Wind direction: 326\n"
     ]
    },
    {
     "name": "stderr",
     "output_type": "stream",
     "text": [
      " 16%|█▌        | 16/100 [00:54<04:41,  3.35s/it]"
     ]
    },
    {
     "name": "stdout",
     "output_type": "stream",
     "text": [
      "Run count: 17\n",
      "Wind speed: 14.422525790346189\n",
      "Wind direction: 235\n"
     ]
    },
    {
     "name": "stderr",
     "output_type": "stream",
     "text": [
      " 17%|█▋        | 17/100 [00:58<04:47,  3.47s/it]"
     ]
    },
    {
     "name": "stdout",
     "output_type": "stream",
     "text": [
      "Run count: 18\n",
      "Wind speed: 14.089701420071\n",
      "Wind direction: 8\n"
     ]
    },
    {
     "name": "stderr",
     "output_type": "stream",
     "text": [
      " 18%|█▊        | 18/100 [01:02<04:47,  3.51s/it]"
     ]
    },
    {
     "name": "stdout",
     "output_type": "stream",
     "text": [
      "Run count: 19\n",
      "Wind speed: 4.156874168672795\n",
      "Wind direction: 135\n"
     ]
    },
    {
     "name": "stderr",
     "output_type": "stream",
     "text": [
      " 19%|█▉        | 19/100 [01:05<04:41,  3.48s/it]"
     ]
    },
    {
     "name": "stdout",
     "output_type": "stream",
     "text": [
      "Run count: 20\n",
      "Wind speed: 9.80481213763254\n",
      "Wind direction: 210\n"
     ]
    },
    {
     "name": "stderr",
     "output_type": "stream",
     "text": [
      " 20%|██        | 20/100 [01:09<04:39,  3.50s/it]"
     ]
    },
    {
     "name": "stdout",
     "output_type": "stream",
     "text": [
      "Run count: 21\n",
      "Wind speed: 6.0784736446997805\n",
      "Wind direction: 321\n"
     ]
    },
    {
     "name": "stderr",
     "output_type": "stream",
     "text": [
      " 21%|██        | 21/100 [01:12<04:35,  3.48s/it]"
     ]
    },
    {
     "name": "stdout",
     "output_type": "stream",
     "text": [
      "Run count: 22\n",
      "Wind speed: 2.1747629642176256\n",
      "Wind direction: 281\n"
     ]
    },
    {
     "name": "stderr",
     "output_type": "stream",
     "text": [
      " 22%|██▏       | 22/100 [01:16<04:35,  3.53s/it]"
     ]
    },
    {
     "name": "stdout",
     "output_type": "stream",
     "text": [
      "Run count: 23\n",
      "Wind speed: 8.241382755456753\n",
      "Wind direction: 134\n"
     ]
    },
    {
     "name": "stderr",
     "output_type": "stream",
     "text": [
      " 23%|██▎       | 23/100 [01:19<04:30,  3.52s/it]"
     ]
    },
    {
     "name": "stdout",
     "output_type": "stream",
     "text": [
      "Run count: 24\n",
      "Wind speed: 7.607382435029586\n",
      "Wind direction: 54\n"
     ]
    },
    {
     "name": "stderr",
     "output_type": "stream",
     "text": [
      " 24%|██▍       | 24/100 [01:23<04:25,  3.49s/it]"
     ]
    },
    {
     "name": "stdout",
     "output_type": "stream",
     "text": [
      "Run count: 25\n",
      "Wind speed: 21.317966560397515\n",
      "Wind direction: 47\n"
     ]
    },
    {
     "name": "stderr",
     "output_type": "stream",
     "text": [
      " 25%|██▌       | 25/100 [01:26<04:18,  3.45s/it]"
     ]
    },
    {
     "name": "stdout",
     "output_type": "stream",
     "text": [
      "Run count: 26\n",
      "Wind speed: 0.5738668015565376\n",
      "Wind direction: 299\n"
     ]
    },
    {
     "name": "stderr",
     "output_type": "stream",
     "text": [
      " 26%|██▌       | 26/100 [01:29<04:06,  3.33s/it]"
     ]
    },
    {
     "name": "stdout",
     "output_type": "stream",
     "text": [
      "Run count: 27\n",
      "Wind speed: 10.045419244032196\n",
      "Wind direction: 356\n"
     ]
    },
    {
     "name": "stderr",
     "output_type": "stream",
     "text": [
      " 27%|██▋       | 27/100 [01:32<04:05,  3.37s/it]"
     ]
    },
    {
     "name": "stdout",
     "output_type": "stream",
     "text": [
      "Run count: 28\n",
      "Wind speed: 16.203549304952247\n",
      "Wind direction: 342\n"
     ]
    },
    {
     "name": "stderr",
     "output_type": "stream",
     "text": [
      " 28%|██▊       | 28/100 [01:36<04:02,  3.37s/it]"
     ]
    },
    {
     "name": "stdout",
     "output_type": "stream",
     "text": [
      "Run count: 29\n",
      "Wind speed: 22.444594414585655\n",
      "Wind direction: 73\n"
     ]
    },
    {
     "name": "stderr",
     "output_type": "stream",
     "text": [
      " 29%|██▉       | 29/100 [01:39<03:56,  3.33s/it]"
     ]
    },
    {
     "name": "stdout",
     "output_type": "stream",
     "text": [
      "Run count: 30\n",
      "Wind speed: 5.4974839152667405\n",
      "Wind direction: 180\n"
     ]
    },
    {
     "name": "stderr",
     "output_type": "stream",
     "text": [
      " 30%|███       | 30/100 [01:42<03:55,  3.36s/it]"
     ]
    },
    {
     "name": "stdout",
     "output_type": "stream",
     "text": [
      "Run count: 31\n",
      "Wind speed: 4.748148281721283\n",
      "Wind direction: 131\n"
     ]
    },
    {
     "name": "stderr",
     "output_type": "stream",
     "text": [
      " 31%|███       | 31/100 [01:46<03:52,  3.37s/it]"
     ]
    },
    {
     "name": "stdout",
     "output_type": "stream",
     "text": [
      "Run count: 32\n",
      "Wind speed: 3.4990460540184603\n",
      "Wind direction: 234\n"
     ]
    },
    {
     "name": "stderr",
     "output_type": "stream",
     "text": [
      " 32%|███▏      | 32/100 [01:49<03:51,  3.40s/it]"
     ]
    },
    {
     "name": "stdout",
     "output_type": "stream",
     "text": [
      "Run count: 33\n",
      "Wind speed: 24.63119756138382\n",
      "Wind direction: 139\n"
     ]
    },
    {
     "name": "stderr",
     "output_type": "stream",
     "text": [
      " 33%|███▎      | 33/100 [01:53<03:52,  3.47s/it]"
     ]
    },
    {
     "name": "stdout",
     "output_type": "stream",
     "text": [
      "Run count: 34\n",
      "Wind speed: 17.65430933874018\n",
      "Wind direction: 110\n"
     ]
    },
    {
     "name": "stderr",
     "output_type": "stream",
     "text": [
      " 34%|███▍      | 34/100 [01:56<03:48,  3.46s/it]"
     ]
    },
    {
     "name": "stdout",
     "output_type": "stream",
     "text": [
      "Run count: 35\n",
      "Wind speed: 22.480942228855127\n",
      "Wind direction: 109\n"
     ]
    },
    {
     "name": "stderr",
     "output_type": "stream",
     "text": [
      " 35%|███▌      | 35/100 [02:00<03:44,  3.45s/it]"
     ]
    },
    {
     "name": "stdout",
     "output_type": "stream",
     "text": [
      "Run count: 36\n",
      "Wind speed: 6.830417572696966\n",
      "Wind direction: 347\n"
     ]
    },
    {
     "name": "stderr",
     "output_type": "stream",
     "text": [
      " 36%|███▌      | 36/100 [02:03<03:43,  3.50s/it]"
     ]
    },
    {
     "name": "stdout",
     "output_type": "stream",
     "text": [
      "Run count: 37\n",
      "Wind speed: 24.59418407036202\n",
      "Wind direction: 152\n"
     ]
    },
    {
     "name": "stderr",
     "output_type": "stream",
     "text": [
      " 37%|███▋      | 37/100 [02:07<03:41,  3.52s/it]"
     ]
    },
    {
     "name": "stdout",
     "output_type": "stream",
     "text": [
      "Run count: 38\n",
      "Wind speed: 17.393152730555315\n",
      "Wind direction: 324\n"
     ]
    },
    {
     "name": "stderr",
     "output_type": "stream",
     "text": [
      " 38%|███▊      | 38/100 [02:11<03:37,  3.51s/it]"
     ]
    },
    {
     "name": "stdout",
     "output_type": "stream",
     "text": [
      "Run count: 39\n",
      "Wind speed: 5.139118563217217\n",
      "Wind direction: 35\n"
     ]
    },
    {
     "name": "stderr",
     "output_type": "stream",
     "text": [
      " 39%|███▉      | 39/100 [02:14<03:36,  3.54s/it]"
     ]
    },
    {
     "name": "stdout",
     "output_type": "stream",
     "text": [
      "Run count: 40\n",
      "Wind speed: 4.518194306078255\n",
      "Wind direction: 185\n"
     ]
    },
    {
     "name": "stderr",
     "output_type": "stream",
     "text": [
      " 40%|████      | 40/100 [02:17<03:27,  3.46s/it]"
     ]
    },
    {
     "name": "stdout",
     "output_type": "stream",
     "text": [
      "Run count: 41\n",
      "Wind speed: 23.33920527352235\n",
      "Wind direction: 75\n"
     ]
    },
    {
     "name": "stderr",
     "output_type": "stream",
     "text": [
      " 41%|████      | 41/100 [02:21<03:26,  3.50s/it]"
     ]
    },
    {
     "name": "stdout",
     "output_type": "stream",
     "text": [
      "Run count: 42\n",
      "Wind speed: 21.000944724323972\n",
      "Wind direction: 77\n"
     ]
    },
    {
     "name": "stderr",
     "output_type": "stream",
     "text": [
      " 42%|████▏     | 42/100 [02:25<03:26,  3.57s/it]"
     ]
    },
    {
     "name": "stdout",
     "output_type": "stream",
     "text": [
      "Run count: 43\n",
      "Wind speed: 15.777534131096548\n",
      "Wind direction: 77\n"
     ]
    },
    {
     "name": "stderr",
     "output_type": "stream",
     "text": [
      " 43%|████▎     | 43/100 [02:28<03:21,  3.54s/it]"
     ]
    },
    {
     "name": "stdout",
     "output_type": "stream",
     "text": [
      "Run count: 44\n",
      "Wind speed: 8.72265277207926\n",
      "Wind direction: 174\n"
     ]
    },
    {
     "name": "stderr",
     "output_type": "stream",
     "text": [
      " 44%|████▍     | 44/100 [02:32<03:16,  3.51s/it]"
     ]
    },
    {
     "name": "stdout",
     "output_type": "stream",
     "text": [
      "Run count: 45\n",
      "Wind speed: 0.5390971405108419\n",
      "Wind direction: 85\n"
     ]
    },
    {
     "name": "stderr",
     "output_type": "stream",
     "text": [
      " 45%|████▌     | 45/100 [02:35<03:09,  3.44s/it]"
     ]
    },
    {
     "name": "stdout",
     "output_type": "stream",
     "text": [
      "Run count: 46\n",
      "Wind speed: 0.7146843218835375\n",
      "Wind direction: 172\n"
     ]
    },
    {
     "name": "stderr",
     "output_type": "stream",
     "text": [
      " 46%|████▌     | 46/100 [02:38<03:02,  3.38s/it]"
     ]
    },
    {
     "name": "stdout",
     "output_type": "stream",
     "text": [
      "Run count: 47\n",
      "Wind speed: 0.0\n",
      "Wind direction: 32\n"
     ]
    },
    {
     "name": "stderr",
     "output_type": "stream",
     "text": [
      " 47%|████▋     | 47/100 [02:41<02:58,  3.37s/it]"
     ]
    },
    {
     "name": "stdout",
     "output_type": "stream",
     "text": [
      "Run count: 48\n",
      "Wind speed: 15.158848097843354\n",
      "Wind direction: 179\n"
     ]
    },
    {
     "name": "stderr",
     "output_type": "stream",
     "text": [
      " 48%|████▊     | 48/100 [02:45<02:52,  3.32s/it]"
     ]
    },
    {
     "name": "stdout",
     "output_type": "stream",
     "text": [
      "Run count: 49\n",
      "Wind speed: 10.70181539195511\n",
      "Wind direction: 16\n"
     ]
    },
    {
     "name": "stderr",
     "output_type": "stream",
     "text": [
      " 49%|████▉     | 49/100 [02:48<02:49,  3.32s/it]"
     ]
    },
    {
     "name": "stdout",
     "output_type": "stream",
     "text": [
      "Run count: 50\n",
      "Wind speed: 1.7076696652444925\n",
      "Wind direction: 138\n"
     ]
    },
    {
     "name": "stderr",
     "output_type": "stream",
     "text": [
      " 50%|█████     | 50/100 [02:51<02:45,  3.31s/it]"
     ]
    },
    {
     "name": "stdout",
     "output_type": "stream",
     "text": [
      "Run count: 51\n",
      "Wind speed: 21.882170154361795\n",
      "Wind direction: 345\n"
     ]
    },
    {
     "name": "stderr",
     "output_type": "stream",
     "text": [
      " 51%|█████     | 51/100 [02:55<02:46,  3.40s/it]"
     ]
    },
    {
     "name": "stdout",
     "output_type": "stream",
     "text": [
      "Run count: 52\n",
      "Wind speed: 13.850603546540228\n",
      "Wind direction: 71\n"
     ]
    },
    {
     "name": "stderr",
     "output_type": "stream",
     "text": [
      " 52%|█████▏    | 52/100 [02:58<02:44,  3.42s/it]"
     ]
    },
    {
     "name": "stdout",
     "output_type": "stream",
     "text": [
      "Run count: 53\n",
      "Wind speed: 17.861641795959226\n",
      "Wind direction: 351\n"
     ]
    },
    {
     "name": "stderr",
     "output_type": "stream",
     "text": [
      " 53%|█████▎    | 53/100 [03:02<02:40,  3.42s/it]"
     ]
    },
    {
     "name": "stdout",
     "output_type": "stream",
     "text": [
      "Run count: 54\n",
      "Wind speed: 8.748579401719299\n",
      "Wind direction: 169\n"
     ]
    },
    {
     "name": "stderr",
     "output_type": "stream",
     "text": [
      " 54%|█████▍    | 54/100 [03:05<02:34,  3.37s/it]"
     ]
    },
    {
     "name": "stdout",
     "output_type": "stream",
     "text": [
      "Run count: 55\n",
      "Wind speed: 24.388580179465308\n",
      "Wind direction: 317\n"
     ]
    },
    {
     "name": "stderr",
     "output_type": "stream",
     "text": [
      " 55%|█████▌    | 55/100 [03:08<02:30,  3.35s/it]"
     ]
    },
    {
     "name": "stdout",
     "output_type": "stream",
     "text": [
      "Run count: 56\n",
      "Wind speed: 10.586674479602792\n",
      "Wind direction: 227\n"
     ]
    },
    {
     "name": "stderr",
     "output_type": "stream",
     "text": [
      " 56%|█████▌    | 56/100 [03:12<02:27,  3.34s/it]"
     ]
    },
    {
     "name": "stdout",
     "output_type": "stream",
     "text": [
      "Run count: 57\n",
      "Wind speed: 22.391030070782634\n",
      "Wind direction: 114\n"
     ]
    },
    {
     "name": "stderr",
     "output_type": "stream",
     "text": [
      " 57%|█████▋    | 57/100 [03:15<02:24,  3.35s/it]"
     ]
    },
    {
     "name": "stdout",
     "output_type": "stream",
     "text": [
      "Run count: 58\n",
      "Wind speed: 21.015545154629976\n",
      "Wind direction: 106\n"
     ]
    },
    {
     "name": "stderr",
     "output_type": "stream",
     "text": [
      " 58%|█████▊    | 58/100 [03:19<02:26,  3.50s/it]"
     ]
    },
    {
     "name": "stdout",
     "output_type": "stream",
     "text": [
      "Run count: 59\n",
      "Wind speed: 22.071520653445518\n",
      "Wind direction: 165\n"
     ]
    },
    {
     "name": "stderr",
     "output_type": "stream",
     "text": [
      " 59%|█████▉    | 59/100 [03:22<02:22,  3.47s/it]"
     ]
    },
    {
     "name": "stdout",
     "output_type": "stream",
     "text": [
      "Run count: 60\n",
      "Wind speed: 6.874348251118982\n",
      "Wind direction: 126\n"
     ]
    },
    {
     "name": "stderr",
     "output_type": "stream",
     "text": [
      " 60%|██████    | 60/100 [03:26<02:16,  3.41s/it]"
     ]
    },
    {
     "name": "stdout",
     "output_type": "stream",
     "text": [
      "Run count: 61\n",
      "Wind speed: 15.97220891052541\n",
      "Wind direction: 49\n"
     ]
    },
    {
     "name": "stderr",
     "output_type": "stream",
     "text": [
      " 61%|██████    | 61/100 [03:29<02:14,  3.44s/it]"
     ]
    },
    {
     "name": "stdout",
     "output_type": "stream",
     "text": [
      "Run count: 62\n",
      "Wind speed: 6.907913369932869\n",
      "Wind direction: 343\n"
     ]
    },
    {
     "name": "stderr",
     "output_type": "stream",
     "text": [
      " 62%|██████▏   | 62/100 [03:32<02:09,  3.42s/it]"
     ]
    },
    {
     "name": "stdout",
     "output_type": "stream",
     "text": [
      "Run count: 63\n",
      "Wind speed: 9.672720031263092\n",
      "Wind direction: 15\n"
     ]
    },
    {
     "name": "stderr",
     "output_type": "stream",
     "text": [
      " 63%|██████▎   | 63/100 [03:36<02:05,  3.39s/it]"
     ]
    },
    {
     "name": "stdout",
     "output_type": "stream",
     "text": [
      "Run count: 64\n",
      "Wind speed: 4.448700974595384\n",
      "Wind direction: 288\n"
     ]
    },
    {
     "name": "stderr",
     "output_type": "stream",
     "text": [
      " 64%|██████▍   | 64/100 [03:39<02:00,  3.34s/it]"
     ]
    },
    {
     "name": "stdout",
     "output_type": "stream",
     "text": [
      "Run count: 65\n",
      "Wind speed: 5.353987281143036\n",
      "Wind direction: 204\n"
     ]
    },
    {
     "name": "stderr",
     "output_type": "stream",
     "text": [
      " 65%|██████▌   | 65/100 [03:42<01:57,  3.35s/it]"
     ]
    },
    {
     "name": "stdout",
     "output_type": "stream",
     "text": [
      "Run count: 66\n",
      "Wind speed: 23.34932085380242\n",
      "Wind direction: 130\n"
     ]
    },
    {
     "name": "stderr",
     "output_type": "stream",
     "text": [
      " 66%|██████▌   | 66/100 [03:46<01:55,  3.40s/it]"
     ]
    },
    {
     "name": "stdout",
     "output_type": "stream",
     "text": [
      "Run count: 67\n",
      "Wind speed: 8.357488701407092\n",
      "Wind direction: 299\n"
     ]
    },
    {
     "name": "stderr",
     "output_type": "stream",
     "text": [
      " 67%|██████▋   | 67/100 [03:49<01:51,  3.36s/it]"
     ]
    },
    {
     "name": "stdout",
     "output_type": "stream",
     "text": [
      "Run count: 68\n",
      "Wind speed: 25.0\n",
      "Wind direction: 107\n"
     ]
    },
    {
     "name": "stderr",
     "output_type": "stream",
     "text": [
      " 68%|██████▊   | 68/100 [03:53<01:48,  3.38s/it]"
     ]
    },
    {
     "name": "stdout",
     "output_type": "stream",
     "text": [
      "Run count: 69\n",
      "Wind speed: 22.075035216402433\n",
      "Wind direction: 83\n"
     ]
    },
    {
     "name": "stderr",
     "output_type": "stream",
     "text": [
      " 69%|██████▉   | 69/100 [03:56<01:46,  3.44s/it]"
     ]
    },
    {
     "name": "stdout",
     "output_type": "stream",
     "text": [
      "Run count: 70\n",
      "Wind speed: 4.4437646525450205\n",
      "Wind direction: 42\n"
     ]
    },
    {
     "name": "stderr",
     "output_type": "stream",
     "text": [
      " 70%|███████   | 70/100 [04:00<01:42,  3.41s/it]"
     ]
    },
    {
     "name": "stdout",
     "output_type": "stream",
     "text": [
      "Run count: 71\n",
      "Wind speed: 19.01761837945398\n",
      "Wind direction: 324\n"
     ]
    },
    {
     "name": "stderr",
     "output_type": "stream",
     "text": [
      " 71%|███████   | 71/100 [04:03<01:40,  3.45s/it]"
     ]
    },
    {
     "name": "stdout",
     "output_type": "stream",
     "text": [
      "Run count: 72\n",
      "Wind speed: 17.287621892260944\n",
      "Wind direction: 328\n"
     ]
    },
    {
     "name": "stderr",
     "output_type": "stream",
     "text": [
      " 72%|███████▏  | 72/100 [04:07<01:37,  3.47s/it]"
     ]
    },
    {
     "name": "stdout",
     "output_type": "stream",
     "text": [
      "Run count: 73\n",
      "Wind speed: 0.8274509220766011\n",
      "Wind direction: 13\n"
     ]
    },
    {
     "name": "stderr",
     "output_type": "stream",
     "text": [
      " 73%|███████▎  | 73/100 [04:10<01:32,  3.44s/it]"
     ]
    },
    {
     "name": "stdout",
     "output_type": "stream",
     "text": [
      "Run count: 74\n",
      "Wind speed: 12.412037607763613\n",
      "Wind direction: 201\n"
     ]
    },
    {
     "name": "stderr",
     "output_type": "stream",
     "text": [
      " 74%|███████▍  | 74/100 [04:14<01:30,  3.49s/it]"
     ]
    },
    {
     "name": "stdout",
     "output_type": "stream",
     "text": [
      "Run count: 75\n",
      "Wind speed: 23.670597656493534\n",
      "Wind direction: 173\n"
     ]
    },
    {
     "name": "stderr",
     "output_type": "stream",
     "text": [
      " 75%|███████▌  | 75/100 [04:17<01:27,  3.49s/it]"
     ]
    },
    {
     "name": "stdout",
     "output_type": "stream",
     "text": [
      "Run count: 76\n",
      "Wind speed: 20.6172894394401\n",
      "Wind direction: 37\n"
     ]
    },
    {
     "name": "stderr",
     "output_type": "stream",
     "text": [
      " 76%|███████▌  | 76/100 [04:21<01:24,  3.53s/it]"
     ]
    },
    {
     "name": "stdout",
     "output_type": "stream",
     "text": [
      "Run count: 77\n",
      "Wind speed: 3.1746550225258767\n",
      "Wind direction: 279\n"
     ]
    },
    {
     "name": "stderr",
     "output_type": "stream",
     "text": [
      " 77%|███████▋  | 77/100 [04:24<01:19,  3.44s/it]"
     ]
    },
    {
     "name": "stdout",
     "output_type": "stream",
     "text": [
      "Run count: 78\n",
      "Wind speed: 8.93556094389733\n",
      "Wind direction: 163\n"
     ]
    },
    {
     "name": "stderr",
     "output_type": "stream",
     "text": [
      " 78%|███████▊  | 78/100 [04:28<01:17,  3.50s/it]"
     ]
    },
    {
     "name": "stdout",
     "output_type": "stream",
     "text": [
      "Run count: 79\n",
      "Wind speed: 21.792937261360553\n",
      "Wind direction: 143\n"
     ]
    },
    {
     "name": "stderr",
     "output_type": "stream",
     "text": [
      " 79%|███████▉  | 79/100 [04:31<01:13,  3.49s/it]"
     ]
    },
    {
     "name": "stdout",
     "output_type": "stream",
     "text": [
      "Run count: 80\n",
      "Wind speed: 23.518009478566672\n",
      "Wind direction: 86\n"
     ]
    },
    {
     "name": "stderr",
     "output_type": "stream",
     "text": [
      " 80%|████████  | 80/100 [04:35<01:10,  3.52s/it]"
     ]
    },
    {
     "name": "stdout",
     "output_type": "stream",
     "text": [
      "Run count: 81\n",
      "Wind speed: 10.496292182256092\n",
      "Wind direction: 47\n"
     ]
    },
    {
     "name": "stderr",
     "output_type": "stream",
     "text": [
      " 81%|████████  | 81/100 [04:38<01:06,  3.51s/it]"
     ]
    },
    {
     "name": "stdout",
     "output_type": "stream",
     "text": [
      "Run count: 82\n",
      "Wind speed: 21.68216396655769\n",
      "Wind direction: 246\n"
     ]
    },
    {
     "name": "stderr",
     "output_type": "stream",
     "text": [
      " 82%|████████▏ | 82/100 [04:41<01:01,  3.44s/it]"
     ]
    },
    {
     "name": "stdout",
     "output_type": "stream",
     "text": [
      "Run count: 83\n",
      "Wind speed: 16.899660161782776\n",
      "Wind direction: 139\n"
     ]
    },
    {
     "name": "stderr",
     "output_type": "stream",
     "text": [
      " 83%|████████▎ | 83/100 [04:45<00:58,  3.44s/it]"
     ]
    },
    {
     "name": "stdout",
     "output_type": "stream",
     "text": [
      "Run count: 84\n",
      "Wind speed: 15.727788073450341\n",
      "Wind direction: 301\n"
     ]
    },
    {
     "name": "stderr",
     "output_type": "stream",
     "text": [
      " 84%|████████▍ | 84/100 [04:48<00:54,  3.43s/it]"
     ]
    },
    {
     "name": "stdout",
     "output_type": "stream",
     "text": [
      "Run count: 85\n",
      "Wind speed: 21.048136429564682\n",
      "Wind direction: 48\n"
     ]
    },
    {
     "name": "stderr",
     "output_type": "stream",
     "text": [
      " 85%|████████▌ | 85/100 [04:52<00:51,  3.45s/it]"
     ]
    },
    {
     "name": "stdout",
     "output_type": "stream",
     "text": [
      "Run count: 86\n",
      "Wind speed: 1.8127569532895496\n",
      "Wind direction: 343\n"
     ]
    },
    {
     "name": "stderr",
     "output_type": "stream",
     "text": [
      " 86%|████████▌ | 86/100 [04:55<00:47,  3.37s/it]"
     ]
    },
    {
     "name": "stdout",
     "output_type": "stream",
     "text": [
      "Run count: 87\n",
      "Wind speed: 18.917919951560574\n",
      "Wind direction: 15\n"
     ]
    },
    {
     "name": "stderr",
     "output_type": "stream",
     "text": [
      " 87%|████████▋ | 87/100 [04:58<00:44,  3.40s/it]"
     ]
    },
    {
     "name": "stdout",
     "output_type": "stream",
     "text": [
      "Run count: 88\n",
      "Wind speed: 11.696396307802722\n",
      "Wind direction: 132\n"
     ]
    },
    {
     "name": "stderr",
     "output_type": "stream",
     "text": [
      " 88%|████████▊ | 88/100 [05:02<00:40,  3.41s/it]"
     ]
    },
    {
     "name": "stdout",
     "output_type": "stream",
     "text": [
      "Run count: 89\n",
      "Wind speed: 9.426771164795815\n",
      "Wind direction: 12\n"
     ]
    },
    {
     "name": "stderr",
     "output_type": "stream",
     "text": [
      " 89%|████████▉ | 89/100 [05:05<00:37,  3.44s/it]"
     ]
    },
    {
     "name": "stdout",
     "output_type": "stream",
     "text": [
      "Run count: 90\n",
      "Wind speed: 20.009533659988946\n",
      "Wind direction: 351\n"
     ]
    },
    {
     "name": "stderr",
     "output_type": "stream",
     "text": [
      " 90%|█████████ | 90/100 [05:09<00:34,  3.45s/it]"
     ]
    },
    {
     "name": "stdout",
     "output_type": "stream",
     "text": [
      "Run count: 91\n",
      "Wind speed: 25.0\n",
      "Wind direction: 93\n"
     ]
    },
    {
     "name": "stderr",
     "output_type": "stream",
     "text": [
      " 91%|█████████ | 91/100 [05:12<00:30,  3.44s/it]"
     ]
    },
    {
     "name": "stdout",
     "output_type": "stream",
     "text": [
      "Run count: 92\n",
      "Wind speed: 14.091894398823362\n",
      "Wind direction: 20\n"
     ]
    },
    {
     "name": "stderr",
     "output_type": "stream",
     "text": [
      " 92%|█████████▏| 92/100 [05:16<00:27,  3.45s/it]"
     ]
    },
    {
     "name": "stdout",
     "output_type": "stream",
     "text": [
      "Run count: 93\n",
      "Wind speed: 19.823554934296077\n",
      "Wind direction: 90\n"
     ]
    },
    {
     "name": "stderr",
     "output_type": "stream",
     "text": [
      " 93%|█████████▎| 93/100 [05:19<00:24,  3.45s/it]"
     ]
    },
    {
     "name": "stdout",
     "output_type": "stream",
     "text": [
      "Run count: 94\n",
      "Wind speed: 0.0\n",
      "Wind direction: 64\n"
     ]
    },
    {
     "name": "stderr",
     "output_type": "stream",
     "text": [
      " 94%|█████████▍| 94/100 [05:22<00:20,  3.36s/it]"
     ]
    },
    {
     "name": "stdout",
     "output_type": "stream",
     "text": [
      "Run count: 95\n",
      "Wind speed: 0.2733812224278743\n",
      "Wind direction: 306\n"
     ]
    },
    {
     "name": "stderr",
     "output_type": "stream",
     "text": [
      " 95%|█████████▌| 95/100 [05:26<00:16,  3.36s/it]"
     ]
    },
    {
     "name": "stdout",
     "output_type": "stream",
     "text": [
      "Run count: 96\n",
      "Wind speed: 4.31827799673953\n",
      "Wind direction: 301\n"
     ]
    },
    {
     "name": "stderr",
     "output_type": "stream",
     "text": [
      " 96%|█████████▌| 96/100 [05:29<00:13,  3.31s/it]"
     ]
    },
    {
     "name": "stdout",
     "output_type": "stream",
     "text": [
      "Run count: 97\n",
      "Wind speed: 4.2561159144756315\n",
      "Wind direction: 227\n"
     ]
    },
    {
     "name": "stderr",
     "output_type": "stream",
     "text": [
      " 97%|█████████▋| 97/100 [05:32<00:09,  3.32s/it]"
     ]
    },
    {
     "name": "stdout",
     "output_type": "stream",
     "text": [
      "Run count: 98\n",
      "Wind speed: 13.906396335720332\n",
      "Wind direction: 160\n"
     ]
    },
    {
     "name": "stderr",
     "output_type": "stream",
     "text": [
      " 98%|█████████▊| 98/100 [05:36<00:06,  3.42s/it]"
     ]
    },
    {
     "name": "stdout",
     "output_type": "stream",
     "text": [
      "Run count: 99\n",
      "Wind speed: 20.265628414203256\n",
      "Wind direction: 239\n"
     ]
    },
    {
     "name": "stderr",
     "output_type": "stream",
     "text": [
      " 99%|█████████▉| 99/100 [05:39<00:03,  3.44s/it]"
     ]
    },
    {
     "name": "stdout",
     "output_type": "stream",
     "text": [
      "Run count: 100\n",
      "Wind speed: 1.6330620108203897\n",
      "Wind direction: 170\n"
     ]
    },
    {
     "name": "stderr",
     "output_type": "stream",
     "text": [
      "100%|██████████| 100/100 [05:43<00:00,  3.43s/it]\n"
     ]
    },
    {
     "name": "stdout",
     "output_type": "stream",
     "text": [
      "Run count: 101\n",
      "Wind speed: 23.523464537450906\n",
      "Wind direction: 107\n",
      "Making env with n masts: 9\n",
      "Run count: 1\n",
      "Wind speed: 22.106816229890814\n",
      "Wind direction: 347\n",
      "22\n",
      "None\n"
     ]
    },
    {
     "name": "stderr",
     "output_type": "stream",
     "text": [
      "  1%|          | 1/100 [00:07<12:52,  7.81s/it]"
     ]
    },
    {
     "name": "stdout",
     "output_type": "stream",
     "text": [
      "Run count: 2\n",
      "Wind speed: 23.680326426852666\n",
      "Wind direction: 64\n"
     ]
    },
    {
     "name": "stderr",
     "output_type": "stream",
     "text": [
      "  2%|▏         | 2/100 [00:15<12:33,  7.69s/it]"
     ]
    },
    {
     "name": "stdout",
     "output_type": "stream",
     "text": [
      "Run count: 3\n",
      "Wind speed: 1.8067570026995736\n",
      "Wind direction: 306\n"
     ]
    },
    {
     "name": "stderr",
     "output_type": "stream",
     "text": [
      "  3%|▎         | 3/100 [00:22<12:00,  7.43s/it]"
     ]
    },
    {
     "name": "stdout",
     "output_type": "stream",
     "text": [
      "Run count: 4\n",
      "Wind speed: 8.194782608767705\n",
      "Wind direction: 336\n"
     ]
    },
    {
     "name": "stderr",
     "output_type": "stream",
     "text": [
      "  4%|▍         | 4/100 [00:30<11:57,  7.47s/it]"
     ]
    },
    {
     "name": "stdout",
     "output_type": "stream",
     "text": [
      "Run count: 5\n",
      "Wind speed: 18.20648890042726\n",
      "Wind direction: 5\n"
     ]
    },
    {
     "name": "stderr",
     "output_type": "stream",
     "text": [
      "  5%|▌         | 5/100 [00:37<12:00,  7.59s/it]"
     ]
    },
    {
     "name": "stdout",
     "output_type": "stream",
     "text": [
      "Run count: 6\n",
      "Wind speed: 19.66848228981513\n",
      "Wind direction: 39\n"
     ]
    },
    {
     "name": "stderr",
     "output_type": "stream",
     "text": [
      "  6%|▌         | 6/100 [00:45<11:53,  7.59s/it]"
     ]
    },
    {
     "name": "stdout",
     "output_type": "stream",
     "text": [
      "Run count: 7\n",
      "Wind speed: 22.672519647866412\n",
      "Wind direction: 46\n"
     ]
    },
    {
     "name": "stderr",
     "output_type": "stream",
     "text": [
      "  7%|▋         | 7/100 [00:53<11:47,  7.61s/it]"
     ]
    },
    {
     "name": "stdout",
     "output_type": "stream",
     "text": [
      "Run count: 8\n",
      "Wind speed: 14.064189316795044\n",
      "Wind direction: 162\n"
     ]
    },
    {
     "name": "stderr",
     "output_type": "stream",
     "text": [
      "  8%|▊         | 8/100 [01:00<11:36,  7.57s/it]"
     ]
    },
    {
     "name": "stdout",
     "output_type": "stream",
     "text": [
      "Run count: 9\n",
      "Wind speed: 0.0\n",
      "Wind direction: 57\n"
     ]
    },
    {
     "name": "stderr",
     "output_type": "stream",
     "text": [
      "  9%|▉         | 9/100 [01:07<11:20,  7.48s/it]"
     ]
    },
    {
     "name": "stdout",
     "output_type": "stream",
     "text": [
      "Run count: 10\n",
      "Wind speed: 14.983638866520472\n",
      "Wind direction: 353\n"
     ]
    },
    {
     "name": "stderr",
     "output_type": "stream",
     "text": [
      " 10%|█         | 10/100 [01:15<11:16,  7.51s/it]"
     ]
    },
    {
     "name": "stdout",
     "output_type": "stream",
     "text": [
      "Run count: 11\n",
      "Wind speed: 7.875496594489231\n",
      "Wind direction: 259\n"
     ]
    },
    {
     "name": "stderr",
     "output_type": "stream",
     "text": [
      " 11%|█         | 11/100 [01:23<11:14,  7.58s/it]"
     ]
    },
    {
     "name": "stdout",
     "output_type": "stream",
     "text": [
      "Run count: 12\n",
      "Wind speed: 14.349890204158214\n",
      "Wind direction: 51\n"
     ]
    },
    {
     "name": "stderr",
     "output_type": "stream",
     "text": [
      " 12%|█▏        | 12/100 [01:30<11:04,  7.55s/it]"
     ]
    },
    {
     "name": "stdout",
     "output_type": "stream",
     "text": [
      "Run count: 13\n",
      "Wind speed: 21.38268396273745\n",
      "Wind direction: 14\n"
     ]
    },
    {
     "name": "stderr",
     "output_type": "stream",
     "text": [
      " 13%|█▎        | 13/100 [01:38<11:01,  7.61s/it]"
     ]
    },
    {
     "name": "stdout",
     "output_type": "stream",
     "text": [
      "Run count: 14\n",
      "Wind speed: 17.72291147748924\n",
      "Wind direction: 328\n"
     ]
    },
    {
     "name": "stderr",
     "output_type": "stream",
     "text": [
      " 14%|█▍        | 14/100 [01:45<10:52,  7.58s/it]"
     ]
    },
    {
     "name": "stdout",
     "output_type": "stream",
     "text": [
      "Run count: 15\n",
      "Wind speed: 10.573121458222573\n",
      "Wind direction: 263\n"
     ]
    },
    {
     "name": "stderr",
     "output_type": "stream",
     "text": [
      " 15%|█▌        | 15/100 [01:53<10:42,  7.56s/it]"
     ]
    },
    {
     "name": "stdout",
     "output_type": "stream",
     "text": [
      "Run count: 16\n",
      "Wind speed: 17.049139403915376\n",
      "Wind direction: 107\n"
     ]
    },
    {
     "name": "stderr",
     "output_type": "stream",
     "text": [
      " 16%|█▌        | 16/100 [02:00<10:33,  7.54s/it]"
     ]
    },
    {
     "name": "stdout",
     "output_type": "stream",
     "text": [
      "Run count: 17\n",
      "Wind speed: 20.625763750013014\n",
      "Wind direction: 294\n"
     ]
    },
    {
     "name": "stderr",
     "output_type": "stream",
     "text": [
      " 17%|█▋        | 17/100 [02:08<10:18,  7.46s/it]"
     ]
    },
    {
     "name": "stdout",
     "output_type": "stream",
     "text": [
      "Run count: 18\n",
      "Wind speed: 0.24880624673161056\n",
      "Wind direction: 156\n"
     ]
    },
    {
     "name": "stderr",
     "output_type": "stream",
     "text": [
      " 18%|█▊        | 18/100 [02:15<10:11,  7.45s/it]"
     ]
    },
    {
     "name": "stdout",
     "output_type": "stream",
     "text": [
      "Run count: 19\n",
      "Wind speed: 2.906355776956262\n",
      "Wind direction: 151\n"
     ]
    },
    {
     "name": "stderr",
     "output_type": "stream",
     "text": [
      " 19%|█▉        | 19/100 [02:23<10:05,  7.47s/it]"
     ]
    },
    {
     "name": "stdout",
     "output_type": "stream",
     "text": [
      "Run count: 20\n",
      "Wind speed: 10.095355607813428\n",
      "Wind direction: 136\n"
     ]
    },
    {
     "name": "stderr",
     "output_type": "stream",
     "text": [
      " 20%|██        | 20/100 [02:30<10:00,  7.51s/it]"
     ]
    },
    {
     "name": "stdout",
     "output_type": "stream",
     "text": [
      "Run count: 21\n",
      "Wind speed: 21.46277111559362\n",
      "Wind direction: 49\n"
     ]
    },
    {
     "name": "stderr",
     "output_type": "stream",
     "text": [
      " 21%|██        | 21/100 [02:38<10:00,  7.60s/it]"
     ]
    },
    {
     "name": "stdout",
     "output_type": "stream",
     "text": [
      "Run count: 22\n",
      "Wind speed: 9.263482292987657\n",
      "Wind direction: 320\n"
     ]
    },
    {
     "name": "stderr",
     "output_type": "stream",
     "text": [
      " 22%|██▏       | 22/100 [02:46<09:59,  7.68s/it]"
     ]
    },
    {
     "name": "stdout",
     "output_type": "stream",
     "text": [
      "Run count: 23\n",
      "Wind speed: 10.76631511541029\n",
      "Wind direction: 66\n"
     ]
    },
    {
     "name": "stderr",
     "output_type": "stream",
     "text": [
      " 23%|██▎       | 23/100 [02:54<09:55,  7.73s/it]"
     ]
    },
    {
     "name": "stdout",
     "output_type": "stream",
     "text": [
      "Run count: 24\n",
      "Wind speed: 10.416774584453535\n",
      "Wind direction: 47\n"
     ]
    },
    {
     "name": "stderr",
     "output_type": "stream",
     "text": [
      " 24%|██▍       | 24/100 [03:01<09:46,  7.72s/it]"
     ]
    },
    {
     "name": "stdout",
     "output_type": "stream",
     "text": [
      "Run count: 25\n",
      "Wind speed: 5.1597178000011725\n",
      "Wind direction: 218\n"
     ]
    },
    {
     "name": "stderr",
     "output_type": "stream",
     "text": [
      " 25%|██▌       | 25/100 [03:09<09:29,  7.59s/it]"
     ]
    },
    {
     "name": "stdout",
     "output_type": "stream",
     "text": [
      "Run count: 26\n",
      "Wind speed: 6.271107030450515\n",
      "Wind direction: 74\n"
     ]
    },
    {
     "name": "stderr",
     "output_type": "stream",
     "text": [
      " 26%|██▌       | 26/100 [03:16<09:17,  7.54s/it]"
     ]
    },
    {
     "name": "stdout",
     "output_type": "stream",
     "text": [
      "Run count: 27\n",
      "Wind speed: 10.302240880733793\n",
      "Wind direction: 278\n"
     ]
    },
    {
     "name": "stderr",
     "output_type": "stream",
     "text": [
      " 27%|██▋       | 27/100 [03:24<09:12,  7.57s/it]"
     ]
    },
    {
     "name": "stdout",
     "output_type": "stream",
     "text": [
      "Run count: 28\n",
      "Wind speed: 10.141801398296634\n",
      "Wind direction: 240\n"
     ]
    },
    {
     "name": "stderr",
     "output_type": "stream",
     "text": [
      " 28%|██▊       | 28/100 [03:31<09:05,  7.58s/it]"
     ]
    },
    {
     "name": "stdout",
     "output_type": "stream",
     "text": [
      "Run count: 29\n",
      "Wind speed: 19.998978093311244\n",
      "Wind direction: 200\n"
     ]
    },
    {
     "name": "stderr",
     "output_type": "stream",
     "text": [
      " 29%|██▉       | 29/100 [03:39<08:59,  7.60s/it]"
     ]
    },
    {
     "name": "stdout",
     "output_type": "stream",
     "text": [
      "Run count: 30\n",
      "Wind speed: 22.414380039727952\n",
      "Wind direction: 158\n"
     ]
    },
    {
     "name": "stderr",
     "output_type": "stream",
     "text": [
      " 30%|███       | 30/100 [03:47<08:52,  7.61s/it]"
     ]
    },
    {
     "name": "stdout",
     "output_type": "stream",
     "text": [
      "Run count: 31\n",
      "Wind speed: 0.28301768034029506\n",
      "Wind direction: 101\n"
     ]
    },
    {
     "name": "stderr",
     "output_type": "stream",
     "text": [
      " 31%|███       | 31/100 [03:54<08:43,  7.58s/it]"
     ]
    },
    {
     "name": "stdout",
     "output_type": "stream",
     "text": [
      "Run count: 32\n",
      "Wind speed: 7.708109174562442\n",
      "Wind direction: 28\n"
     ]
    },
    {
     "name": "stderr",
     "output_type": "stream",
     "text": [
      " 32%|███▏      | 32/100 [04:02<08:32,  7.54s/it]"
     ]
    },
    {
     "name": "stdout",
     "output_type": "stream",
     "text": [
      "Run count: 33\n",
      "Wind speed: 20.878237740286774\n",
      "Wind direction: 352\n"
     ]
    },
    {
     "name": "stderr",
     "output_type": "stream",
     "text": [
      " 33%|███▎      | 33/100 [04:09<08:29,  7.60s/it]"
     ]
    },
    {
     "name": "stdout",
     "output_type": "stream",
     "text": [
      "Run count: 34\n",
      "Wind speed: 11.15471172847886\n",
      "Wind direction: 96\n"
     ]
    },
    {
     "name": "stderr",
     "output_type": "stream",
     "text": [
      " 34%|███▍      | 34/100 [04:17<08:19,  7.57s/it]"
     ]
    },
    {
     "name": "stdout",
     "output_type": "stream",
     "text": [
      "Run count: 35\n",
      "Wind speed: 11.88438728566775\n",
      "Wind direction: 242\n"
     ]
    },
    {
     "name": "stderr",
     "output_type": "stream",
     "text": [
      " 35%|███▌      | 35/100 [04:24<08:07,  7.50s/it]"
     ]
    },
    {
     "name": "stdout",
     "output_type": "stream",
     "text": [
      "Run count: 36\n",
      "Wind speed: 16.316857908540065\n",
      "Wind direction: 220\n"
     ]
    },
    {
     "name": "stderr",
     "output_type": "stream",
     "text": [
      " 36%|███▌      | 36/100 [04:32<08:01,  7.52s/it]"
     ]
    },
    {
     "name": "stdout",
     "output_type": "stream",
     "text": [
      "Run count: 37\n",
      "Wind speed: 22.91405607024751\n",
      "Wind direction: 250\n"
     ]
    },
    {
     "name": "stderr",
     "output_type": "stream",
     "text": [
      " 37%|███▋      | 37/100 [04:39<07:55,  7.54s/it]"
     ]
    },
    {
     "name": "stdout",
     "output_type": "stream",
     "text": [
      "Run count: 38\n",
      "Wind speed: 4.921953415096344\n",
      "Wind direction: 326\n"
     ]
    },
    {
     "name": "stderr",
     "output_type": "stream",
     "text": [
      " 38%|███▊      | 38/100 [04:47<07:52,  7.62s/it]"
     ]
    },
    {
     "name": "stdout",
     "output_type": "stream",
     "text": [
      "Run count: 39\n",
      "Wind speed: 19.84133876830847\n",
      "Wind direction: 289\n"
     ]
    },
    {
     "name": "stderr",
     "output_type": "stream",
     "text": [
      " 39%|███▉      | 39/100 [04:55<07:48,  7.69s/it]"
     ]
    },
    {
     "name": "stdout",
     "output_type": "stream",
     "text": [
      "Run count: 40\n",
      "Wind speed: 9.488619558741561\n",
      "Wind direction: 347\n"
     ]
    },
    {
     "name": "stderr",
     "output_type": "stream",
     "text": [
      " 40%|████      | 40/100 [05:03<07:42,  7.71s/it]"
     ]
    },
    {
     "name": "stdout",
     "output_type": "stream",
     "text": [
      "Run count: 41\n",
      "Wind speed: 1.7980041545528267\n",
      "Wind direction: 301\n"
     ]
    },
    {
     "name": "stderr",
     "output_type": "stream",
     "text": [
      " 41%|████      | 41/100 [05:11<07:40,  7.80s/it]"
     ]
    },
    {
     "name": "stdout",
     "output_type": "stream",
     "text": [
      "Run count: 42\n",
      "Wind speed: 15.442564441373516\n",
      "Wind direction: 5\n"
     ]
    },
    {
     "name": "stderr",
     "output_type": "stream",
     "text": [
      " 42%|████▏     | 42/100 [05:19<07:38,  7.90s/it]"
     ]
    },
    {
     "name": "stdout",
     "output_type": "stream",
     "text": [
      "Run count: 43\n",
      "Wind speed: 19.42647220530764\n",
      "Wind direction: 350\n"
     ]
    },
    {
     "name": "stderr",
     "output_type": "stream",
     "text": [
      " 43%|████▎     | 43/100 [05:27<07:34,  7.97s/it]"
     ]
    },
    {
     "name": "stdout",
     "output_type": "stream",
     "text": [
      "Run count: 44\n",
      "Wind speed: 3.164484674862827\n",
      "Wind direction: 82\n"
     ]
    },
    {
     "name": "stderr",
     "output_type": "stream",
     "text": [
      " 44%|████▍     | 44/100 [05:35<07:24,  7.94s/it]"
     ]
    },
    {
     "name": "stdout",
     "output_type": "stream",
     "text": [
      "Run count: 45\n",
      "Wind speed: 6.274656103486101\n",
      "Wind direction: 100\n"
     ]
    },
    {
     "name": "stderr",
     "output_type": "stream",
     "text": [
      " 45%|████▌     | 45/100 [05:43<07:16,  7.93s/it]"
     ]
    },
    {
     "name": "stdout",
     "output_type": "stream",
     "text": [
      "Run count: 46\n",
      "Wind speed: 2.4086888590006934\n",
      "Wind direction: 106\n"
     ]
    },
    {
     "name": "stderr",
     "output_type": "stream",
     "text": [
      " 46%|████▌     | 46/100 [05:51<07:11,  7.99s/it]"
     ]
    },
    {
     "name": "stdout",
     "output_type": "stream",
     "text": [
      "Run count: 47\n",
      "Wind speed: 8.293943187175081\n",
      "Wind direction: 205\n"
     ]
    },
    {
     "name": "stderr",
     "output_type": "stream",
     "text": [
      " 47%|████▋     | 47/100 [05:58<06:55,  7.84s/it]"
     ]
    },
    {
     "name": "stdout",
     "output_type": "stream",
     "text": [
      "Run count: 48\n",
      "Wind speed: 22.27369441615717\n",
      "Wind direction: 353\n"
     ]
    },
    {
     "name": "stderr",
     "output_type": "stream",
     "text": [
      " 48%|████▊     | 48/100 [06:06<06:49,  7.88s/it]"
     ]
    },
    {
     "name": "stdout",
     "output_type": "stream",
     "text": [
      "Run count: 49\n",
      "Wind speed: 4.233451049908426\n",
      "Wind direction: 72\n"
     ]
    },
    {
     "name": "stderr",
     "output_type": "stream",
     "text": [
      " 49%|████▉     | 49/100 [06:15<06:45,  7.95s/it]"
     ]
    },
    {
     "name": "stdout",
     "output_type": "stream",
     "text": [
      "Run count: 50\n",
      "Wind speed: 8.502197387574371\n",
      "Wind direction: 254\n"
     ]
    },
    {
     "name": "stderr",
     "output_type": "stream",
     "text": [
      " 50%|█████     | 50/100 [06:22<06:32,  7.85s/it]"
     ]
    },
    {
     "name": "stdout",
     "output_type": "stream",
     "text": [
      "Run count: 51\n",
      "Wind speed: 25.0\n",
      "Wind direction: 298\n"
     ]
    },
    {
     "name": "stderr",
     "output_type": "stream",
     "text": [
      " 51%|█████     | 51/100 [06:30<06:24,  7.85s/it]"
     ]
    },
    {
     "name": "stdout",
     "output_type": "stream",
     "text": [
      "Run count: 52\n",
      "Wind speed: 1.964171372747189\n",
      "Wind direction: 1\n"
     ]
    },
    {
     "name": "stderr",
     "output_type": "stream",
     "text": [
      " 52%|█████▏    | 52/100 [06:37<06:07,  7.65s/it]"
     ]
    },
    {
     "name": "stdout",
     "output_type": "stream",
     "text": [
      "Run count: 53\n",
      "Wind speed: 17.34602911235747\n",
      "Wind direction: 105\n"
     ]
    },
    {
     "name": "stderr",
     "output_type": "stream",
     "text": [
      " 53%|█████▎    | 53/100 [06:45<05:57,  7.61s/it]"
     ]
    },
    {
     "name": "stdout",
     "output_type": "stream",
     "text": [
      "Run count: 54\n",
      "Wind speed: 21.004223189289597\n",
      "Wind direction: 132\n"
     ]
    },
    {
     "name": "stderr",
     "output_type": "stream",
     "text": [
      " 54%|█████▍    | 54/100 [06:52<05:50,  7.62s/it]"
     ]
    },
    {
     "name": "stdout",
     "output_type": "stream",
     "text": [
      "Run count: 55\n",
      "Wind speed: 9.770610232392347\n",
      "Wind direction: 322\n"
     ]
    },
    {
     "name": "stderr",
     "output_type": "stream",
     "text": [
      " 55%|█████▌    | 55/100 [07:00<05:44,  7.66s/it]"
     ]
    },
    {
     "name": "stdout",
     "output_type": "stream",
     "text": [
      "Run count: 56\n",
      "Wind speed: 4.910847039965545\n",
      "Wind direction: 339\n"
     ]
    },
    {
     "name": "stderr",
     "output_type": "stream",
     "text": [
      " 56%|█████▌    | 56/100 [07:08<05:43,  7.82s/it]"
     ]
    },
    {
     "name": "stdout",
     "output_type": "stream",
     "text": [
      "Run count: 57\n",
      "Wind speed: 23.974638667531707\n",
      "Wind direction: 13\n"
     ]
    },
    {
     "name": "stderr",
     "output_type": "stream",
     "text": [
      " 57%|█████▋    | 57/100 [07:16<05:37,  7.85s/it]"
     ]
    },
    {
     "name": "stdout",
     "output_type": "stream",
     "text": [
      "Run count: 58\n",
      "Wind speed: 16.336339690558326\n",
      "Wind direction: 209\n"
     ]
    },
    {
     "name": "stderr",
     "output_type": "stream",
     "text": [
      " 58%|█████▊    | 58/100 [07:24<05:27,  7.81s/it]"
     ]
    },
    {
     "name": "stdout",
     "output_type": "stream",
     "text": [
      "Run count: 59\n",
      "Wind speed: 20.710511280193895\n",
      "Wind direction: 113\n"
     ]
    },
    {
     "name": "stderr",
     "output_type": "stream",
     "text": [
      " 59%|█████▉    | 59/100 [07:32<05:21,  7.84s/it]"
     ]
    },
    {
     "name": "stdout",
     "output_type": "stream",
     "text": [
      "Run count: 60\n",
      "Wind speed: 15.414590834505713\n",
      "Wind direction: 166\n"
     ]
    },
    {
     "name": "stderr",
     "output_type": "stream",
     "text": [
      " 60%|██████    | 60/100 [07:40<05:12,  7.82s/it]"
     ]
    },
    {
     "name": "stdout",
     "output_type": "stream",
     "text": [
      "Run count: 61\n",
      "Wind speed: 3.478252819397368\n",
      "Wind direction: 153\n"
     ]
    },
    {
     "name": "stderr",
     "output_type": "stream",
     "text": [
      " 61%|██████    | 61/100 [07:48<05:05,  7.83s/it]"
     ]
    },
    {
     "name": "stdout",
     "output_type": "stream",
     "text": [
      "Run count: 62\n",
      "Wind speed: 21.707967857012058\n",
      "Wind direction: 127\n"
     ]
    },
    {
     "name": "stderr",
     "output_type": "stream",
     "text": [
      " 62%|██████▏   | 62/100 [07:55<04:56,  7.81s/it]"
     ]
    },
    {
     "name": "stdout",
     "output_type": "stream",
     "text": [
      "Run count: 63\n",
      "Wind speed: 15.746540557629597\n",
      "Wind direction: 115\n"
     ]
    },
    {
     "name": "stderr",
     "output_type": "stream",
     "text": [
      " 63%|██████▎   | 63/100 [08:03<04:48,  7.79s/it]"
     ]
    },
    {
     "name": "stdout",
     "output_type": "stream",
     "text": [
      "Run count: 64\n",
      "Wind speed: 12.293697025207805\n",
      "Wind direction: 135\n"
     ]
    },
    {
     "name": "stderr",
     "output_type": "stream",
     "text": [
      " 64%|██████▍   | 64/100 [08:11<04:40,  7.79s/it]"
     ]
    },
    {
     "name": "stdout",
     "output_type": "stream",
     "text": [
      "Run count: 65\n",
      "Wind speed: 10.905872931286291\n",
      "Wind direction: 341\n"
     ]
    },
    {
     "name": "stderr",
     "output_type": "stream",
     "text": [
      " 65%|██████▌   | 65/100 [08:19<04:31,  7.77s/it]"
     ]
    },
    {
     "name": "stdout",
     "output_type": "stream",
     "text": [
      "Run count: 66\n",
      "Wind speed: 12.071260862137422\n",
      "Wind direction: 195\n"
     ]
    },
    {
     "name": "stderr",
     "output_type": "stream",
     "text": [
      " 66%|██████▌   | 66/100 [08:26<04:22,  7.73s/it]"
     ]
    },
    {
     "name": "stdout",
     "output_type": "stream",
     "text": [
      "Run count: 67\n",
      "Wind speed: 17.18607490401331\n",
      "Wind direction: 270\n"
     ]
    },
    {
     "name": "stderr",
     "output_type": "stream",
     "text": [
      " 67%|██████▋   | 67/100 [08:34<04:14,  7.72s/it]"
     ]
    },
    {
     "name": "stdout",
     "output_type": "stream",
     "text": [
      "Run count: 68\n",
      "Wind speed: 6.317883560961378\n",
      "Wind direction: 223\n"
     ]
    },
    {
     "name": "stderr",
     "output_type": "stream",
     "text": [
      " 68%|██████▊   | 68/100 [08:42<04:08,  7.75s/it]"
     ]
    },
    {
     "name": "stdout",
     "output_type": "stream",
     "text": [
      "Run count: 69\n",
      "Wind speed: 11.985479572278015\n",
      "Wind direction: 307\n"
     ]
    },
    {
     "name": "stderr",
     "output_type": "stream",
     "text": [
      " 69%|██████▉   | 69/100 [08:49<03:59,  7.74s/it]"
     ]
    },
    {
     "name": "stdout",
     "output_type": "stream",
     "text": [
      "Run count: 70\n",
      "Wind speed: 9.493162982244861\n",
      "Wind direction: 356\n"
     ]
    },
    {
     "name": "stderr",
     "output_type": "stream",
     "text": [
      " 70%|███████   | 70/100 [08:57<03:52,  7.75s/it]"
     ]
    },
    {
     "name": "stdout",
     "output_type": "stream",
     "text": [
      "Run count: 71\n",
      "Wind speed: 9.946303667520587\n",
      "Wind direction: 352\n"
     ]
    },
    {
     "name": "stderr",
     "output_type": "stream",
     "text": [
      " 71%|███████   | 71/100 [09:05<03:44,  7.73s/it]"
     ]
    },
    {
     "name": "stdout",
     "output_type": "stream",
     "text": [
      "Run count: 72\n",
      "Wind speed: 13.6999711736938\n",
      "Wind direction: 293\n"
     ]
    },
    {
     "name": "stderr",
     "output_type": "stream",
     "text": [
      " 72%|███████▏  | 72/100 [09:13<03:36,  7.74s/it]"
     ]
    },
    {
     "name": "stdout",
     "output_type": "stream",
     "text": [
      "Run count: 73\n",
      "Wind speed: 4.081052180886347\n",
      "Wind direction: 125\n"
     ]
    },
    {
     "name": "stderr",
     "output_type": "stream",
     "text": [
      " 73%|███████▎  | 73/100 [09:20<03:25,  7.61s/it]"
     ]
    },
    {
     "name": "stdout",
     "output_type": "stream",
     "text": [
      "Run count: 74\n",
      "Wind speed: 1.501490539824415\n",
      "Wind direction: 157\n"
     ]
    },
    {
     "name": "stderr",
     "output_type": "stream",
     "text": [
      " 74%|███████▍  | 74/100 [09:27<03:15,  7.53s/it]"
     ]
    },
    {
     "name": "stdout",
     "output_type": "stream",
     "text": [
      "Run count: 75\n",
      "Wind speed: 0.3980840232714553\n",
      "Wind direction: 202\n"
     ]
    },
    {
     "name": "stderr",
     "output_type": "stream",
     "text": [
      " 75%|███████▌  | 75/100 [09:35<03:09,  7.57s/it]"
     ]
    },
    {
     "name": "stdout",
     "output_type": "stream",
     "text": [
      "Run count: 76\n",
      "Wind speed: 21.391083657905586\n",
      "Wind direction: 21\n"
     ]
    },
    {
     "name": "stderr",
     "output_type": "stream",
     "text": [
      " 76%|███████▌  | 76/100 [09:42<03:01,  7.55s/it]"
     ]
    },
    {
     "name": "stdout",
     "output_type": "stream",
     "text": [
      "Run count: 77\n",
      "Wind speed: 22.04308646219314\n",
      "Wind direction: 125\n"
     ]
    },
    {
     "name": "stderr",
     "output_type": "stream",
     "text": [
      " 77%|███████▋  | 77/100 [09:50<02:55,  7.64s/it]"
     ]
    },
    {
     "name": "stdout",
     "output_type": "stream",
     "text": [
      "Run count: 78\n",
      "Wind speed: 13.24562038528044\n",
      "Wind direction: 223\n"
     ]
    },
    {
     "name": "stderr",
     "output_type": "stream",
     "text": [
      " 78%|███████▊  | 78/100 [09:58<02:48,  7.67s/it]"
     ]
    },
    {
     "name": "stdout",
     "output_type": "stream",
     "text": [
      "Run count: 79\n",
      "Wind speed: 3.7031331808411396\n",
      "Wind direction: 150\n"
     ]
    },
    {
     "name": "stderr",
     "output_type": "stream",
     "text": [
      " 79%|███████▉  | 79/100 [10:06<02:40,  7.62s/it]"
     ]
    },
    {
     "name": "stdout",
     "output_type": "stream",
     "text": [
      "Run count: 80\n",
      "Wind speed: 6.320094272441139\n",
      "Wind direction: 204\n"
     ]
    },
    {
     "name": "stderr",
     "output_type": "stream",
     "text": [
      " 80%|████████  | 80/100 [10:13<02:33,  7.67s/it]"
     ]
    },
    {
     "name": "stdout",
     "output_type": "stream",
     "text": [
      "Run count: 81\n",
      "Wind speed: 18.47297364341393\n",
      "Wind direction: 224\n"
     ]
    },
    {
     "name": "stderr",
     "output_type": "stream",
     "text": [
      " 81%|████████  | 81/100 [10:21<02:25,  7.68s/it]"
     ]
    },
    {
     "name": "stdout",
     "output_type": "stream",
     "text": [
      "Run count: 82\n",
      "Wind speed: 22.384815716437604\n",
      "Wind direction: 265\n"
     ]
    },
    {
     "name": "stderr",
     "output_type": "stream",
     "text": [
      " 82%|████████▏ | 82/100 [10:29<02:18,  7.68s/it]"
     ]
    },
    {
     "name": "stdout",
     "output_type": "stream",
     "text": [
      "Run count: 83\n",
      "Wind speed: 18.614551848294816\n",
      "Wind direction: 99\n"
     ]
    },
    {
     "name": "stderr",
     "output_type": "stream",
     "text": [
      " 83%|████████▎ | 83/100 [10:36<02:09,  7.63s/it]"
     ]
    },
    {
     "name": "stdout",
     "output_type": "stream",
     "text": [
      "Run count: 84\n",
      "Wind speed: 10.352465065550938\n",
      "Wind direction: 226\n"
     ]
    },
    {
     "name": "stderr",
     "output_type": "stream",
     "text": [
      " 84%|████████▍ | 84/100 [10:44<02:01,  7.60s/it]"
     ]
    },
    {
     "name": "stdout",
     "output_type": "stream",
     "text": [
      "Run count: 85\n",
      "Wind speed: 5.903973523607785\n",
      "Wind direction: 3\n"
     ]
    },
    {
     "name": "stderr",
     "output_type": "stream",
     "text": [
      " 85%|████████▌ | 85/100 [10:51<01:53,  7.60s/it]"
     ]
    },
    {
     "name": "stdout",
     "output_type": "stream",
     "text": [
      "Run count: 86\n",
      "Wind speed: 24.636605100555954\n",
      "Wind direction: 39\n"
     ]
    },
    {
     "name": "stderr",
     "output_type": "stream",
     "text": [
      " 86%|████████▌ | 86/100 [10:59<01:47,  7.65s/it]"
     ]
    },
    {
     "name": "stdout",
     "output_type": "stream",
     "text": [
      "Run count: 87\n",
      "Wind speed: 14.856861420742812\n",
      "Wind direction: 128\n"
     ]
    },
    {
     "name": "stderr",
     "output_type": "stream",
     "text": [
      " 87%|████████▋ | 87/100 [11:07<01:39,  7.64s/it]"
     ]
    },
    {
     "name": "stdout",
     "output_type": "stream",
     "text": [
      "Run count: 88\n",
      "Wind speed: 2.4365983667145246\n",
      "Wind direction: 3\n"
     ]
    },
    {
     "name": "stderr",
     "output_type": "stream",
     "text": [
      " 88%|████████▊ | 88/100 [11:15<01:32,  7.69s/it]"
     ]
    },
    {
     "name": "stdout",
     "output_type": "stream",
     "text": [
      "Run count: 89\n",
      "Wind speed: 16.28830947194823\n",
      "Wind direction: 44\n"
     ]
    },
    {
     "name": "stderr",
     "output_type": "stream",
     "text": [
      " 89%|████████▉ | 89/100 [11:22<01:24,  7.64s/it]"
     ]
    },
    {
     "name": "stdout",
     "output_type": "stream",
     "text": [
      "Run count: 90\n",
      "Wind speed: 18.09723018316721\n",
      "Wind direction: 215\n"
     ]
    },
    {
     "name": "stderr",
     "output_type": "stream",
     "text": [
      " 90%|█████████ | 90/100 [11:30<01:16,  7.66s/it]"
     ]
    },
    {
     "name": "stdout",
     "output_type": "stream",
     "text": [
      "Run count: 91\n",
      "Wind speed: 21.844888834206078\n",
      "Wind direction: 167\n"
     ]
    },
    {
     "name": "stderr",
     "output_type": "stream",
     "text": [
      " 91%|█████████ | 91/100 [11:37<01:08,  7.67s/it]"
     ]
    },
    {
     "name": "stdout",
     "output_type": "stream",
     "text": [
      "Run count: 92\n",
      "Wind speed: 3.5446172212225653\n",
      "Wind direction: 90\n"
     ]
    },
    {
     "name": "stderr",
     "output_type": "stream",
     "text": [
      " 92%|█████████▏| 92/100 [11:45<01:00,  7.60s/it]"
     ]
    },
    {
     "name": "stdout",
     "output_type": "stream",
     "text": [
      "Run count: 93\n",
      "Wind speed: 16.35976036539008\n",
      "Wind direction: 189\n"
     ]
    },
    {
     "name": "stderr",
     "output_type": "stream",
     "text": [
      " 93%|█████████▎| 93/100 [11:53<00:53,  7.60s/it]"
     ]
    },
    {
     "name": "stdout",
     "output_type": "stream",
     "text": [
      "Run count: 94\n",
      "Wind speed: 25.0\n",
      "Wind direction: 116\n"
     ]
    },
    {
     "name": "stderr",
     "output_type": "stream",
     "text": [
      " 94%|█████████▍| 94/100 [12:00<00:45,  7.63s/it]"
     ]
    },
    {
     "name": "stdout",
     "output_type": "stream",
     "text": [
      "Run count: 95\n",
      "Wind speed: 15.516881826966513\n",
      "Wind direction: 23\n"
     ]
    },
    {
     "name": "stderr",
     "output_type": "stream",
     "text": [
      " 95%|█████████▌| 95/100 [12:08<00:38,  7.66s/it]"
     ]
    },
    {
     "name": "stdout",
     "output_type": "stream",
     "text": [
      "Run count: 96\n",
      "Wind speed: 12.492534420727779\n",
      "Wind direction: 62\n"
     ]
    },
    {
     "name": "stderr",
     "output_type": "stream",
     "text": [
      " 96%|█████████▌| 96/100 [12:16<00:30,  7.68s/it]"
     ]
    },
    {
     "name": "stdout",
     "output_type": "stream",
     "text": [
      "Run count: 97\n",
      "Wind speed: 2.256248885794352\n",
      "Wind direction: 332\n"
     ]
    },
    {
     "name": "stderr",
     "output_type": "stream",
     "text": [
      " 97%|█████████▋| 97/100 [12:23<00:22,  7.66s/it]"
     ]
    },
    {
     "name": "stdout",
     "output_type": "stream",
     "text": [
      "Run count: 98\n",
      "Wind speed: 9.776042717619838\n",
      "Wind direction: 107\n"
     ]
    },
    {
     "name": "stderr",
     "output_type": "stream",
     "text": [
      " 98%|█████████▊| 98/100 [12:30<00:15,  7.52s/it]"
     ]
    },
    {
     "name": "stdout",
     "output_type": "stream",
     "text": [
      "Run count: 99\n",
      "Wind speed: 12.150508826474427\n",
      "Wind direction: 264\n"
     ]
    },
    {
     "name": "stderr",
     "output_type": "stream",
     "text": [
      " 99%|█████████▉| 99/100 [12:38<00:07,  7.49s/it]"
     ]
    },
    {
     "name": "stdout",
     "output_type": "stream",
     "text": [
      "Run count: 100\n",
      "Wind speed: 19.434781538932796\n",
      "Wind direction: 215\n"
     ]
    },
    {
     "name": "stderr",
     "output_type": "stream",
     "text": [
      "100%|██████████| 100/100 [12:46<00:00,  7.66s/it]"
     ]
    },
    {
     "name": "stdout",
     "output_type": "stream",
     "text": [
      "Run count: 101\n",
      "Wind speed: 20.935528451857824\n",
      "Wind direction: 343\n"
     ]
    },
    {
     "name": "stderr",
     "output_type": "stream",
     "text": [
      "\n"
     ]
    }
   ],
   "source": [
    "def evaluate_model(model, env, evaluations):\n",
    "    total_rewards = np.zeros((evaluations, EPISODE_LEN))\n",
    "    total_powers = np.zeros((evaluations, EPISODE_LEN))\n",
    "    obs, info = env.reset()\n",
    "    print(len(obs))\n",
    "    print(info)\n",
    "    for i in tqdm.tqdm(range(evaluations)):\n",
    "        for j in range(EPISODE_LEN):\n",
    "            action, _states = model.predict(obs)\n",
    "            obs, reward, terminated, truncated, info = env.step(action)\n",
    "            total_rewards[i, j] = reward\n",
    "            total_powers[i, j] = info[\"power_output\"]\n",
    "            if terminated or truncated:\n",
    "                break\n",
    "        env.reset()\n",
    "    return total_rewards, total_powers\n",
    "\n",
    "models = [\n",
    "    (\"PPO unpriv\", PPO.load(\"ppo_4wt_symmetric_unprivileged_cw_t1000000.0\"), None),\n",
    "    (\"PPO priv 75\", PPO.load(\"ppo_4wt_symmetric_privileged_md75_cw_t1000000.0_t1000000.0\"), 75)\n",
    "]\n",
    "for model_name, model, mast_distancing in models:\n",
    "    privileged = mast_distancing is not None\n",
    "    env = get_4wt_symmetric_env(\n",
    "        episode_length=EPISODE_LEN, \n",
    "        privileged=privileged, \n",
    "        mast_distancing=mast_distancing,\n",
    "        changing_wind=True,\n",
    "    )\n",
    "    rewards, powers = evaluate_model(model, env, evaluations)\n",
    "    np.save(f\"data/{model_name}_rewards.npy\", rewards)\n",
    "    np.save(f\"data/{model_name}_powers.npy\", powers)"
   ]
  },
  {
   "cell_type": "markdown",
   "metadata": {},
   "source": [
    "# Evalute SR proportional controller"
   ]
  },
  {
   "cell_type": "code",
   "execution_count": null,
   "metadata": {},
   "outputs": [
    {
     "name": "stderr",
     "output_type": "stream",
     "text": [
      "  0%|          | 0/100 [00:00<?, ?it/s]"
     ]
    },
    {
     "name": "stderr",
     "output_type": "stream",
     "text": [
      "/home/maranc/miniconda3/envs/windfarm/lib/python3.8/site-packages/floris/simulation/wake_deflection/gauss.py:209: RuntimeWarning: invalid value encountered in sqrt\n",
      "  ln_deltaNum = (1.6 + np.sqrt(M0)) * (\n",
      "/home/maranc/miniconda3/envs/windfarm/lib/python3.8/site-packages/floris/simulation/wake_deflection/gauss.py:210: RuntimeWarning: invalid value encountered in sqrt\n",
      "  1.6 * np.sqrt(sigma_y * sigma_z / (sigma_y0 * sigma_z0)) - np.sqrt(M0)\n",
      "/home/maranc/miniconda3/envs/windfarm/lib/python3.8/site-packages/floris/simulation/wake_deflection/gauss.py:212: RuntimeWarning: invalid value encountered in sqrt\n",
      "  ln_deltaDen = (1.6 - np.sqrt(M0)) * (\n",
      "/home/maranc/miniconda3/envs/windfarm/lib/python3.8/site-packages/floris/simulation/wake_deflection/gauss.py:213: RuntimeWarning: invalid value encountered in sqrt\n",
      "  1.6 * np.sqrt(sigma_y * sigma_z / (sigma_y0 * sigma_z0)) + np.sqrt(M0)\n",
      "/home/maranc/miniconda3/envs/windfarm/lib/python3.8/site-packages/floris/simulation/wake_velocity/gaussianModels/gauss_legacy.py:173: RuntimeWarning: invalid value encountered in sqrt\n",
      "  sigma_y = (((x0 - xR) - (x_locations - xR)) / (x0 - xR)) * 0.501 * D * np.sqrt(\n",
      "/home/maranc/miniconda3/envs/windfarm/lib/python3.8/site-packages/floris/simulation/wake_velocity/gaussianModels/gauss_legacy.py:176: RuntimeWarning: invalid value encountered in sqrt\n",
      "  sigma_z = (((x0 - xR) - (x_locations - xR)) / (x0 - xR)) * 0.501 * D * np.sqrt(\n",
      "/home/maranc/miniconda3/envs/windfarm/lib/python3.8/site-packages/floris/simulation/wake_turbulence/crespo_hernandez.py:93: RuntimeWarning: invalid value encountered in scalar power\n",
      "  * turbine.aI ** self.ti_ai\n",
      "/home/maranc/miniconda3/envs/windfarm/lib/python3.8/site-packages/numpy/core/fromnumeric.py:3464: RuntimeWarning: Mean of empty slice.\n",
      "  return _methods._mean(a, axis=axis, dtype=dtype,\n",
      "/home/maranc/miniconda3/envs/windfarm/lib/python3.8/site-packages/numpy/core/_methods.py:192: RuntimeWarning: invalid value encountered in scalar divide\n",
      "  ret = ret.dtype.type(ret / rcount)\n",
      "/home/maranc/miniconda3/envs/windfarm/lib/python3.8/site-packages/floris/simulation/turbine.py:692: RuntimeWarning: invalid value encountered in scalar power\n",
      "  yaw_effective_velocity = self.average_velocity * cosd(self.yaw_angle) ** pW\n",
      "/home/maranc/miniconda3/envs/windfarm/lib/python3.8/site-packages/floris/simulation/wake_deflection/gauss.py:219: RuntimeWarning: invalid value encountered in sqrt\n",
      "  * np.sqrt(sigma_y0 * sigma_z0 / (ky * kz * M0))\n",
      "/home/maranc/miniconda3/envs/windfarm/lib/python3.8/site-packages/floris/simulation/turbine.py:406: RuntimeWarning: divide by zero encountered in scalar divide\n",
      "  total_turbulence_intensity = (\n",
      "/home/maranc/miniconda3/envs/windfarm/lib/python3.8/site-packages/floris/simulation/wake_velocity/gaussianModels/gauss_legacy.py:173: RuntimeWarning: invalid value encountered in divide\n",
      "  sigma_y = (((x0 - xR) - (x_locations - xR)) / (x0 - xR)) * 0.501 * D * np.sqrt(\n",
      "/home/maranc/miniconda3/envs/windfarm/lib/python3.8/site-packages/floris/simulation/wake_velocity/gaussianModels/gauss_legacy.py:175: RuntimeWarning: invalid value encountered in divide\n",
      "  ) + ((x_locations - xR) / (x0 - xR)) * sigma_y0\n",
      "/home/maranc/miniconda3/envs/windfarm/lib/python3.8/site-packages/floris/simulation/wake_velocity/gaussianModels/gauss_legacy.py:176: RuntimeWarning: invalid value encountered in divide\n",
      "  sigma_z = (((x0 - xR) - (x_locations - xR)) / (x0 - xR)) * 0.501 * D * np.sqrt(\n",
      "/home/maranc/miniconda3/envs/windfarm/lib/python3.8/site-packages/floris/simulation/wake_velocity/gaussianModels/gauss_legacy.py:178: RuntimeWarning: invalid value encountered in divide\n",
      "  ) + ((x_locations - xR) / (x0 - xR)) * sigma_z0\n",
      "/home/maranc/miniconda3/envs/windfarm/lib/python3.8/site-packages/floris/simulation/wake_velocity/gaussianModels/gauss_legacy.py:201: RuntimeWarning: invalid value encountered in multiply\n",
      "  sigma_y = ky * (x_locations - x0) + sigma_y0\n",
      "/home/maranc/miniconda3/envs/windfarm/lib/python3.8/site-packages/floris/simulation/wake_velocity/gaussianModels/gauss_legacy.py:202: RuntimeWarning: invalid value encountered in multiply\n",
      "  sigma_z = kz * (x_locations - x0) + sigma_z0\n",
      "  5%|▌         | 5/100 [00:18<05:52,  3.71s/it]/home/maranc/miniconda3/envs/windfarm/lib/python3.8/site-packages/floris/simulation/wake_deflection/gauss.py:220: RuntimeWarning: invalid value encountered in log\n",
      "  * np.log(ln_deltaNum / ln_deltaDen)\n",
      "/home/maranc/miniconda3/envs/windfarm/lib/python3.8/site-packages/floris/simulation/wake_deflection/gauss.py:156: RuntimeWarning: divide by zero encountered in divide\n",
      "  U_local\n",
      "/home/maranc/miniconda3/envs/windfarm/lib/python3.8/site-packages/floris/simulation/wake_deflection/gauss.py:181: RuntimeWarning: invalid value encountered in sqrt\n",
      "  sigma_z0 = D * 0.5 * np.sqrt(uR / (U_local + u0))\n",
      "/home/maranc/miniconda3/envs/windfarm/lib/python3.8/site-packages/floris/simulation/wake_velocity/gaussianModels/gaussian_model_base.py:516: RuntimeWarning: divide by zero encountered in divide\n",
      "  uR = U_local * Ct / (2.0 * (1 - np.sqrt(1 - Ct)))\n",
      "/home/maranc/miniconda3/envs/windfarm/lib/python3.8/site-packages/floris/simulation/wake_velocity/gaussianModels/gauss_legacy.py:175: RuntimeWarning: invalid value encountered in multiply\n",
      "  ) + ((x_locations - xR) / (x0 - xR)) * sigma_y0\n",
      "/home/maranc/miniconda3/envs/windfarm/lib/python3.8/site-packages/floris/simulation/wake_velocity/gaussianModels/gauss_legacy.py:178: RuntimeWarning: invalid value encountered in multiply\n",
      "  ) + ((x_locations - xR) / (x0 - xR)) * sigma_z0\n",
      "/home/maranc/miniconda3/envs/windfarm/lib/python3.8/site-packages/floris/simulation/wake_deflection/gauss.py:210: RuntimeWarning: invalid value encountered in divide\n",
      "  1.6 * np.sqrt(sigma_y * sigma_z / (sigma_y0 * sigma_z0)) - np.sqrt(M0)\n",
      "/home/maranc/miniconda3/envs/windfarm/lib/python3.8/site-packages/floris/simulation/wake_deflection/gauss.py:213: RuntimeWarning: invalid value encountered in divide\n",
      "  1.6 * np.sqrt(sigma_y * sigma_z / (sigma_y0 * sigma_z0)) + np.sqrt(M0)\n",
      "/home/maranc/miniconda3/envs/windfarm/lib/python3.8/site-packages/floris/simulation/wake_deflection/gauss.py:218: RuntimeWarning: invalid value encountered in multiply\n",
      "  + (theta_c0 * E0 / 5.2)\n",
      "  9%|▉         | 9/100 [00:34<05:59,  3.95s/it]/home/maranc/miniconda3/envs/windfarm/lib/python3.8/site-packages/floris/simulation/wake_velocity/gaussianModels/gauss_legacy.py:173: RuntimeWarning: divide by zero encountered in divide\n",
      "  sigma_y = (((x0 - xR) - (x_locations - xR)) / (x0 - xR)) * 0.501 * D * np.sqrt(\n",
      "/home/maranc/miniconda3/envs/windfarm/lib/python3.8/site-packages/floris/simulation/wake_velocity/gaussianModels/gauss_legacy.py:175: RuntimeWarning: divide by zero encountered in divide\n",
      "  ) + ((x_locations - xR) / (x0 - xR)) * sigma_y0\n",
      "/home/maranc/miniconda3/envs/windfarm/lib/python3.8/site-packages/floris/simulation/wake_velocity/gaussianModels/gauss_legacy.py:176: RuntimeWarning: divide by zero encountered in divide\n",
      "  sigma_z = (((x0 - xR) - (x_locations - xR)) / (x0 - xR)) * 0.501 * D * np.sqrt(\n",
      "/home/maranc/miniconda3/envs/windfarm/lib/python3.8/site-packages/floris/simulation/wake_velocity/gaussianModels/gauss_legacy.py:178: RuntimeWarning: divide by zero encountered in divide\n",
      "  ) + ((x_locations - xR) / (x0 - xR)) * sigma_z0\n",
      " 10%|█         | 10/100 [00:38<05:46,  3.85s/it]"
     ]
    }
   ],
   "source": [
    "from serial_refine_agent import SR_ProportionalController\n",
    "from env_utils import get_4wt_symmetric_env\n",
    "\n",
    "# Load agent and environment\n",
    "agent = SR_ProportionalController()\n",
    "env = get_4wt_symmetric_env(episode_length=EPISODE_LEN, privileged=False, changing_wind=True, action_representation=\"yaw\")\n",
    "\n",
    "# Evaluate agent\n",
    "obs, info = env.reset()\n",
    "total_rewards = np.zeros((evaluations, EPISODE_LEN))\n",
    "total_powers = np.zeros((evaluations, EPISODE_LEN))\n",
    "for i in tqdm.tqdm(range(evaluations)):\n",
    "    for j in range(EPISODE_LEN):\n",
    "        wind_direction = env.wind_process.wind_direction\n",
    "        current_yaws = env.yaws_from_wind\n",
    "\n",
    "        action = agent.predict(wind_direction, current_yaws)\n",
    "        obs, reward, terminated, truncated, info = env.step(action)\n",
    "\n",
    "        total_rewards[i, j] = reward\n",
    "        total_powers[i, j] = info[\"power_output\"]\n",
    "\n",
    "        if terminated or truncated:\n",
    "            break\n",
    "    env.reset()\n",
    "\n",
    "np.save(\"data/SR_proportional_rewards.npy\", total_rewards)\n",
    "np.save(\"data/SR_proportional_powers.npy\", total_powers)\n",
    "\n",
    "# Evaluate agent in noisy environment\n",
    "obs, info = env.reset()\n",
    "total_rewards = np.zeros((evaluations, EPISODE_LEN))\n",
    "total_powers = np.zeros((evaluations, EPISODE_LEN))\n",
    "for i in tqdm.tqdm(range(evaluations)):\n",
    "    for j in range(EPISODE_LEN):\n",
    "        wind_direction = env.wind_process.wind_direction\n",
    "        current_yaws = env.yaws_from_wind\n",
    "\n",
    "        # Add noise to wind direction\n",
    "        wind_direction = wind_direction + np.random.normal(0, 5)\n",
    "\n",
    "        action = agent.predict(wind_direction, current_yaws)\n",
    "        obs, reward, terminated, truncated, info = env.step(action)\n",
    "\n",
    "        total_rewards[i, j] = reward\n",
    "        total_powers[i, j] = info[\"power_output\"]\n",
    "\n",
    "        if terminated or truncated:\n",
    "            break\n",
    "    env.reset()\n",
    "\n",
    "np.save(\"data/SR_proportional_noisy_rewards.npy\", total_rewards)\n",
    "np.save(\"data/SR_proportional_noisy_powers.npy\", total_powers)"
   ]
  },
  {
   "cell_type": "markdown",
   "metadata": {},
   "source": [
    "# Plot comparisons"
   ]
  },
  {
   "cell_type": "code",
   "execution_count": 6,
   "metadata": {},
   "outputs": [
    {
     "data": {
      "image/png": "[encoded data removed]",
      "text/plain": [
       "<Figure size 640x480 with 1 Axes>"
      ]
     },
     "metadata": {},
     "output_type": "display_data"
    }
   ],
   "source": [
    "import matplotlib.pyplot as plt\n",
    "\n",
    "models = [\"PPO unpriv\", \"PPO priv 75\", \"SR_proportional\"]#, \"SR_proportional_noisy\"]\n",
    "\n",
    "# Plot power for each model as barplot\n",
    "fig, ax = plt.subplots()\n",
    "for model in models:\n",
    "    powers = np.load(f\"data/{model}_powers.npy\")\n",
    "    ep_powers = powers.sum(axis=1)\n",
    "    ax.bar(model, ep_powers.mean(), yerr=ep_powers.std(), capsize=5)\n",
    "plt.ylabel(\"Total power output\")\n",
    "plt.show()"
   ]
  }
 ],
 "metadata": {
  "kernelspec": {
   "display_name": "windfarm",
   "language": "python",
   "name": "python3"
  },
  "language_info": {
   "codemirror_mode": {
    "name": "ipython",
    "version": 3
   },
   "file_extension": ".py",
   "mimetype": "text/x-python",
   "name": "python",
   "nbconvert_exporter": "python",
   "pygments_lexer": "ipython3",
   "version": "3.8.19"
  }
 },
 "nbformat": 4,
 "nbformat_minor": 2
}
