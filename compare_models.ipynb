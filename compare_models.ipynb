{
 "cells": [
  {
   "cell_type": "code",
   "execution_count": 2,
   "metadata": {},
   "outputs": [
    {
     "name": "stderr",
     "output_type": "stream",
     "text": [
      "2024-10-17 16:18:41.249892: I tensorflow/core/util/port.cc:110] oneDNN custom operations are on. You may see slightly different numerical results due to floating-point round-off errors from different computation orders. To turn them off, set the environment variable `TF_ENABLE_ONEDNN_OPTS=0`.\n",
      "2024-10-17 16:18:41.278625: I tensorflow/tsl/cuda/cudart_stub.cc:28] Could not find cuda drivers on your machine, GPU will not be used.\n",
      "2024-10-17 16:18:41.553841: I tensorflow/core/platform/cpu_feature_guard.cc:182] This TensorFlow binary is optimized to use available CPU instructions in performance-critical operations.\n",
      "To enable the following instructions: AVX2 AVX512F AVX512_VNNI FMA, in other operations, rebuild TensorFlow with the appropriate compiler flags.\n",
      "2024-10-17 16:18:43.257086: W tensorflow/compiler/tf2tensorrt/utils/py_utils.cc:38] TF-TRT Warning: Could not find TensorRT\n"
     ]
    }
   ],
   "source": [
    "from config import EPISODE_LEN\n",
    "from env_utils import get_4wt_symmetric_env\n",
    "from stable_baselines3 import PPO\n",
    "import numpy as np\n",
    "import tqdm\n",
    "\n",
    "evaluations = 100"
   ]
  },
  {
   "cell_type": "markdown",
   "metadata": {},
   "source": [
    "# Evaluate PPO models"
   ]
  },
  {
   "cell_type": "code",
   "execution_count": 1,
   "metadata": {},
   "outputs": [
    {
     "ename": "NameError",
     "evalue": "name 'PPO' is not defined",
     "output_type": "error",
     "traceback": [
      "\u001b[0;31m---------------------------------------------------------------------------\u001b[0m",
      "\u001b[0;31mNameError\u001b[0m                                 Traceback (most recent call last)",
      "Cell \u001b[0;32mIn[1], line 21\u001b[0m\n\u001b[1;32m     15\u001b[0m         env\u001b[38;5;241m.\u001b[39mreset()\n\u001b[1;32m     16\u001b[0m     \u001b[38;5;28;01mreturn\u001b[39;00m total_rewards, total_powers\n\u001b[1;32m     18\u001b[0m models \u001b[38;5;241m=\u001b[39m [\n\u001b[1;32m     19\u001b[0m     \u001b[38;5;66;03m#(\"PPO unpriv\", PPO.load(\"ppo_4wt_symmetric_unprivileged_cw_t1000000.0\"), None),\u001b[39;00m\n\u001b[1;32m     20\u001b[0m     \u001b[38;5;66;03m#(\"PPO priv 75\", PPO.load(\"ppo_4wt_symmetric_privileged_md75_cw_t1000000.0_t1000000.0\"), 75)\u001b[39;00m\n\u001b[0;32m---> 21\u001b[0m     (\u001b[38;5;124m\"\u001b[39m\u001b[38;5;124mPPO unpriv alignedreset\u001b[39m\u001b[38;5;124m\"\u001b[39m, \u001b[43mPPO\u001b[49m\u001b[38;5;241m.\u001b[39mload(\u001b[38;5;124m\"\u001b[39m\u001b[38;5;124mdata/models/ppo_4wt_symmetric_unprivileged_cw_t1000000.0\u001b[39m\u001b[38;5;124m\"\u001b[39m), \u001b[38;5;28;01mNone\u001b[39;00m),\n\u001b[1;32m     22\u001b[0m     \u001b[38;5;66;03m#?(\"PPO priv 75 alignedreset\", PPO.load(\"data/models/ppo_4wt_symmetric_privileged_md75_cw_t1000000.0\"), 75)\u001b[39;00m\n\u001b[1;32m     23\u001b[0m ]\n\u001b[1;32m     24\u001b[0m \u001b[38;5;28;01mfor\u001b[39;00m model_name, model, mast_distancing \u001b[38;5;129;01min\u001b[39;00m models:\n\u001b[1;32m     25\u001b[0m     privileged \u001b[38;5;241m=\u001b[39m mast_distancing \u001b[38;5;129;01mis\u001b[39;00m \u001b[38;5;129;01mnot\u001b[39;00m \u001b[38;5;28;01mNone\u001b[39;00m\n",
      "\u001b[0;31mNameError\u001b[0m: name 'PPO' is not defined"
     ]
    },
    {
     "ename": "",
     "evalue": "",
     "output_type": "error",
     "traceback": [
      "\u001b[1;31mnotebook controller is DISPOSED. \n",
      "\u001b[1;31mView Jupyter <a href='command:jupyter.viewOutput'>log</a> for further details."
     ]
    }
   ],
   "source": [
    "def evaluate_model(model, env, evaluations):\n",
    "    total_rewards = np.zeros((evaluations, EPISODE_LEN))\n",
    "    total_powers = np.zeros((evaluations, EPISODE_LEN))\n",
    "    obs, info = env.reset()\n",
    "    print(len(obs))\n",
    "    print(info)\n",
    "    for i in tqdm.tqdm(range(evaluations)):\n",
    "        for j in range(EPISODE_LEN):\n",
    "            action, _states = model.predict(obs)\n",
    "            obs, reward, terminated, truncated, info = env.step(action)\n",
    "            total_rewards[i, j] = reward\n",
    "            total_powers[i, j] = info[\"power_output\"]\n",
    "            if terminated or truncated:\n",
    "                break\n",
    "        env.reset()\n",
    "    return total_rewards, total_powers\n",
    "\n",
    "models = [\n",
    "    #(\"PPO unpriv\", PPO.load(\"ppo_4wt_symmetric_unprivileged_cw_t1000000.0\"), None),\n",
    "    #(\"PPO priv 75\", PPO.load(\"ppo_4wt_symmetric_privileged_md75_cw_t1000000.0_t1000000.0\"), 75)\n",
    "    (\"PPO unpriv alignedreset\", PPO.load(\"data/models/ppo_4wt_symmetric_unprivileged_cw_t1000000.0\"), None),\n",
    "    #?(\"PPO priv 75 alignedreset\", PPO.load(\"data/models/ppo_4wt_symmetric_privileged_md75_cw_t1000000.0\"), 75)\n",
    "]\n",
    "for model_name, model, mast_distancing in models:\n",
    "    privileged = mast_distancing is not None\n",
    "    env = get_4wt_symmetric_env(\n",
    "        episode_length=EPISODE_LEN, \n",
    "        privileged=privileged, \n",
    "        mast_distancing=mast_distancing,\n",
    "        changing_wind=True,\n",
    "    )\n",
    "    rewards, powers = evaluate_model(model, env, evaluations)\n",
    "    np.save(f\"data/{model_name}_rewards.npy\", rewards)\n",
    "    np.save(f\"data/{model_name}_powers.npy\", powers)"
   ]
  },
  {
   "cell_type": "markdown",
   "metadata": {},
   "source": [
    "# Evalute SR proportional controller"
   ]
  },
  {
   "cell_type": "code",
   "execution_count": 12,
   "metadata": {},
   "outputs": [
    {
     "name": "stderr",
     "output_type": "stream",
     "text": [
      "  0%|          | 0/100 [00:00<?, ?it/s]"
     ]
    },
    {
     "name": "stderr",
     "output_type": "stream",
     "text": [
      "100%|██████████| 100/100 [05:43<00:00,  3.43s/it]\n",
      "100%|██████████| 100/100 [05:43<00:00,  3.44s/it]\n"
     ]
    }
   ],
   "source": [
    "from serial_refine_agent import SR_ProportionalController\n",
    "from env_utils import get_4wt_symmetric_env\n",
    "\n",
    "# Load agent and environment\n",
    "agent = SR_ProportionalController()\n",
    "env = get_4wt_symmetric_env(episode_length=EPISODE_LEN, privileged=False, changing_wind=True, action_representation=\"yaw\")\n",
    "\n",
    "# Evaluate agent\n",
    "obs, info = env.reset()\n",
    "total_rewards = np.zeros((evaluations, EPISODE_LEN))\n",
    "total_powers = np.zeros((evaluations, EPISODE_LEN))\n",
    "for i in tqdm.tqdm(range(evaluations)):\n",
    "    for j in range(EPISODE_LEN):\n",
    "        wind_direction = env.wind_process.wind_direction\n",
    "        current_yaws = env.yaws_from_wind\n",
    "\n",
    "        action = agent.predict(wind_direction, current_yaws)\n",
    "        obs, reward, terminated, truncated, info = env.step(action)\n",
    "\n",
    "        total_rewards[i, j] = reward\n",
    "        total_powers[i, j] = info[\"power_output\"]\n",
    "\n",
    "        if terminated or truncated:\n",
    "            break\n",
    "    env.reset()\n",
    "\n",
    "np.save(\"data/SR_proportional_rewards.npy\", total_rewards)\n",
    "np.save(\"data/SR_proportional_powers.npy\", total_powers)\n",
    "\n",
    "# Evaluate agent in noisy environment\n",
    "obs, info = env.reset()\n",
    "total_rewards = np.zeros((evaluations, EPISODE_LEN))\n",
    "total_powers = np.zeros((evaluations, EPISODE_LEN))\n",
    "for i in tqdm.tqdm(range(evaluations)):\n",
    "    for j in range(EPISODE_LEN):\n",
    "        wind_direction = env.wind_process.wind_direction\n",
    "        current_yaws = env.yaws_from_wind\n",
    "\n",
    "        # Add noise to wind direction\n",
    "        wind_direction = wind_direction + np.random.normal(0, 5)\n",
    "\n",
    "        action = agent.predict(wind_direction, current_yaws)\n",
    "        obs, reward, terminated, truncated, info = env.step(action)\n",
    "\n",
    "        total_rewards[i, j] = reward\n",
    "        total_powers[i, j] = info[\"power_output\"]\n",
    "\n",
    "        if terminated or truncated:\n",
    "            break\n",
    "    env.reset()\n",
    "\n",
    "np.save(\"data/SR_proportional_noisy_rewards.npy\", total_rewards)\n",
    "np.save(\"data/SR_proportional_noisy_powers.npy\", total_powers)"
   ]
  },
  {
   "cell_type": "markdown",
   "metadata": {},
   "source": [
    "# Plot comparisons"
   ]
  },
  {
   "cell_type": "code",
   "execution_count": 3,
   "metadata": {},
   "outputs": [
    {
     "data": {
      "image/png": "[encoded data removed]",
      "text/plain": [
       "<Figure size 640x480 with 1 Axes>"
      ]
     },
     "metadata": {},
     "output_type": "display_data"
    }
   ],
   "source": [
    "import matplotlib.pyplot as plt\n",
    "\n",
    "models = [\"PPO unpriv\", \"PPO priv 75\", \"PPO unpriv alignedreset\", \"SR_proportional\", \"SR_proportional_noisy\"]\n",
    "\n",
    "# Plot power for each model as barplot\n",
    "fig, ax = plt.subplots()\n",
    "for model in models:\n",
    "    powers = np.load(f\"data/{model}_powers.npy\")\n",
    "    ep_powers = powers.sum(axis=1)\n",
    "    ax.bar(model, ep_powers.mean(), yerr=ep_powers.std(), capsize=5)\n",
    "plt.ylabel(\"Total power output\")\n",
    "# Set the y axis to be between 1e10 and 1e8\n",
    "plt.yscale(\"log\")\n",
    "plt.show()"
   ]
  }
 ],
 "metadata": {
  "kernelspec": {
   "display_name": "windfarm",
   "language": "python",
   "name": "python3"
  },
  "language_info": {
   "codemirror_mode": {
    "name": "ipython",
    "version": 3
   },
   "file_extension": ".py",
   "mimetype": "text/x-python",
   "name": "python",
   "nbconvert_exporter": "python",
   "pygments_lexer": "ipython3",
   "version": "3.8.19"
  }
 },
 "nbformat": 4,
 "nbformat_minor": 2
}
