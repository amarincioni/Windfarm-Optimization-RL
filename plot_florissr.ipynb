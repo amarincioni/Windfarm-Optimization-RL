{
 "cells": [
  {
   "cell_type": "markdown",
   "metadata": {},
   "source": [
    "### Serial-Refine paper repetition"
   ]
  },
  {
   "cell_type": "code",
   "execution_count": null,
   "metadata": {},
   "outputs": [],
   "source": [
    "import numpy as np\n",
    "import matplotlib.pyplot as plt\n",
    "import seaborn as sns\n",
    "from serial_refine_agent import plot_yaw_angles\n",
    "\n",
    "sns.set_style(\"whitegrid\")\n",
    "\n",
    "optimal_yaws = np.load(\"data/serial_refine/yaw_angles_opt_sr.npy\")\n",
    "optimal_yaws = optimal_yaws + np.linspace(0, 360, 120)[:, None]\n",
    "wind_directions = np.linspace(0, 360, 120)\n",
    "max_diff4 = np.max(np.abs(np.diff(optimal_yaws, axis=0)), axis=1)\n",
    "plot_yaw_angles(\"serial_refine\", wind_directions, optimal_yaws, title_name=\" (4Symm)\")\n",
    "\n",
    "optimal_yaws = np.load(\"data/serial_refine/lhs8_yaw_angles_opt.npy\")\n",
    "optimal_yaws = optimal_yaws + np.linspace(0, 360, 120)[:, None]\n",
    "wind_directions = np.linspace(0, 360, 120)\n",
    "max_diff8 = np.max(np.abs(np.diff(optimal_yaws, axis=0)), axis=1)\n",
    "plot_yaw_angles(\"8lhs\", wind_directions, optimal_yaws, title_name=\" (8LHS)\")\n",
    "\n",
    "optimal_yaws = np.load(\"data/serial_refine/lhs16_yaw_angles_opt.npy\")\n",
    "optimal_yaws = optimal_yaws + np.linspace(0, 360, 120)[:, None]\n",
    "wind_directions = np.linspace(0, 360, 120)\n",
    "max_diff16 = np.max(np.abs(np.diff(optimal_yaws, axis=0)), axis=1)\n",
    "plot_yaw_angles(\"16lhs\", wind_directions, optimal_yaws, title_name=\" (16LHS)\")\n",
    "\n",
    "plt.plot(wind_directions[:-1], max_diff4, label=\"4Symm\")\n",
    "plt.plot(wind_directions[:-1], max_diff8, label=\"8LHS\")\n",
    "plt.plot(wind_directions[:-1], max_diff16, label=\"16LHS\")\n",
    "plt.title(\"Maximum difference between adjacent optimal yaw angles\", wrap=True)\n",
    "plt.xlabel(\"Wind direction (degrees)\")\n",
    "plt.ylabel(\"Max yaw angle difference (degrees)\")\n",
    "plt.legend()\n",
    "plt.savefig(f\"data/serial_refine/max_diff.png\")\n",
    "plt.show()\n",
    "\n",
    "threshold_granularity = 100\n",
    "x = np.linspace(3, 28, threshold_granularity)\n",
    "threshold_count4 = [np.sum(max_diff4 <= i) / max_diff4.shape[0] for i in x]\n",
    "threshold_count8 = [np.sum(max_diff8 <= i) / max_diff8.shape[0] for i in x]\n",
    "threshold_count16 = [np.sum(max_diff16 <= i) / max_diff16.shape[0] for i in x]\n",
    "plt.plot(x, threshold_count4, label=\"4Symm\")\n",
    "plt.plot(x, threshold_count8, label=\"8LHS\")\n",
    "plt.plot(x, threshold_count16, label=\"16LHS\")\n",
    "\n",
    "plt.title(\"Fraction of global wind directions where optimal actuation \\nis within turning speed constraints\", wrap=True)\n",
    "plt.xlabel(\"Maximum single timestep yaw actuation (degrees)\")\n",
    "plt.xticks(np.arange(x.min(), x.max()+1, 2))\n",
    "plt.ylabel(\"Fraction of wind directions\")\n",
    "plt.legend()\n",
    "plt.savefig(f\"data/serial_refine/max_diff_threshold.png\")\n",
    "plt.show()"
   ]
  }
 ],
 "metadata": {
  "kernelspec": {
   "display_name": "windfarm",
   "language": "python",
   "name": "python3"
  },
  "language_info": {
   "codemirror_mode": {
    "name": "ipython",
    "version": 3
   },
   "file_extension": ".py",
   "mimetype": "text/x-python",
   "name": "python",
   "nbconvert_exporter": "python",
   "pygments_lexer": "ipython3",
   "version": "3.8.19"
  }
 },
 "nbformat": 4,
 "nbformat_minor": 2
}
