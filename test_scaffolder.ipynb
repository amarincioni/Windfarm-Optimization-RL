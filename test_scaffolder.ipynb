{
 "cells": [
  {
   "cell_type": "code",
   "execution_count": 1,
   "metadata": {},
   "outputs": [
    {
     "ename": "AttributeError",
     "evalue": "'NoneType' object has no attribute 'close'",
     "output_type": "error",
     "traceback": [
      "\u001b[0;31m---------------------------------------------------------------------------\u001b[0m",
      "\u001b[0;31mAttributeError\u001b[0m                            Traceback (most recent call last)",
      "Cell \u001b[0;32mIn[1], line 11\u001b[0m\n\u001b[1;32m      9\u001b[0m     obs, reward, _, _ \u001b[38;5;241m=\u001b[39m env\u001b[38;5;241m.\u001b[39mstep(a)  \u001b[38;5;66;03m# Perform the action\u001b[39;00m\n\u001b[1;32m     10\u001b[0m     env\u001b[38;5;241m.\u001b[39mrender()                     \u001b[38;5;66;03m# Render the environment; remove this line to speed up the process\u001b[39;00m\n\u001b[0;32m---> 11\u001b[0m \u001b[43menv\u001b[49m\u001b[38;5;241;43m.\u001b[39;49m\u001b[43mclose\u001b[49m\u001b[43m(\u001b[49m\u001b[43m)\u001b[49m\n",
      "File \u001b[0;32m~/miniconda3/envs/windfarm2/lib/python3.9/site-packages/wind_farm_gym/wind_farm_env.py:554\u001b[0m, in \u001b[0;36mWindFarmEnv.close\u001b[0;34m(self)\u001b[0m\n\u001b[1;32m    552\u001b[0m \u001b[38;5;28;01mif\u001b[39;00m \u001b[38;5;28mself\u001b[39m\u001b[38;5;241m.\u001b[39mvisualization \u001b[38;5;129;01mis\u001b[39;00m \u001b[38;5;129;01mnot\u001b[39;00m \u001b[38;5;28;01mNone\u001b[39;00m:\n\u001b[1;32m    553\u001b[0m     \u001b[38;5;28mself\u001b[39m\u001b[38;5;241m.\u001b[39mvisualization\u001b[38;5;241m.\u001b[39mclose()\n\u001b[0;32m--> 554\u001b[0m \u001b[38;5;28;43mself\u001b[39;49m\u001b[38;5;241;43m.\u001b[39;49m\u001b[43mwind_process\u001b[49m\u001b[38;5;241;43m.\u001b[39;49m\u001b[43mclose\u001b[49m()\n",
      "\u001b[0;31mAttributeError\u001b[0m: 'NoneType' object has no attribute 'close'"
     ]
    }
   ],
   "source": [
    "from wind_farm_gym import WindFarmEnv\n",
    "\n",
    "# Initialize the environment with 3 turbines positioned 750 meters apart in a line\n",
    "env = WindFarmEnv(turbine_layout=([0, 750, 1500], [0, 0, 0]))\n",
    "\n",
    "obs = env.reset()\n",
    "for _ in range(1000):                # Repeat for 1000 steps\n",
    "    a = env.action_space.sample()    # Choose an action randomly\n",
    "    obs, reward, _, _ = env.step(a)  # Perform the action\n",
    "    env.render()                     # Render the environment; remove this line to speed up the process\n",
    "env.close()"
   ]
  },
  {
   "cell_type": "code",
   "execution_count": null,
   "metadata": {},
   "outputs": [],
   "source": [
    "# python -u dreamerv3/train.py --logdir ~/logdir/test_blindpick_$(date \"+%Y%m%d-%H%M%S\") \n",
    "# --configs gymnasium_blindpick,sanity_check"
   ]
  }
 ],
 "metadata": {
  "kernelspec": {
   "display_name": "windfarm2",
   "language": "python",
   "name": "python3"
  },
  "language_info": {
   "codemirror_mode": {
    "name": "ipython",
    "version": 3
   },
   "file_extension": ".py",
   "mimetype": "text/x-python",
   "name": "python",
   "nbconvert_exporter": "python",
   "pygments_lexer": "ipython3",
   "version": "3.9.19"
  }
 },
 "nbformat": 4,
 "nbformat_minor": 2
}
