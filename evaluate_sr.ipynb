{
 "cells": [
  {
   "cell_type": "markdown",
   "metadata": {},
   "source": [
    "### 4wt changing wind ProportionalSR evaluation"
   ]
  },
  {
   "cell_type": "code",
   "execution_count": null,
   "metadata": {},
   "outputs": [],
   "source": [
    "from serial_refine_agent import SR_ProportionalController\n",
    "from env_utils import get_4wt_symmetric_env\n",
    "from config import EPISODE_LEN, EVAL_REPS\n",
    "\n",
    "import numpy as np\n",
    "import tqdm\n",
    "\n",
    "# Load agent and environment\n",
    "agent = SR_ProportionalController()\n",
    "env = get_4wt_symmetric_env(episode_length=EPISODE_LEN, privileged=False, changing_wind=True, action_representation=\"yaw\")\n",
    "\n",
    "# Evaluate agent\n",
    "obs, info = env.reset()\n",
    "total_rewards = np.zeros((EVAL_REPS, EPISODE_LEN))\n",
    "total_powers = np.zeros((EVAL_REPS, EPISODE_LEN))\n",
    "for i in tqdm.tqdm(range(EVAL_REPS)):\n",
    "    for j in range(EPISODE_LEN):\n",
    "        wind_direction = env.wind_process.wind_direction\n",
    "        current_yaws = env.yaws_from_wind\n",
    "\n",
    "        action = agent.predict(wind_direction, current_yaws)\n",
    "        obs, reward, terminated, truncated, info = env.step(action)\n",
    "\n",
    "        total_rewards[i, j] = reward\n",
    "        total_powers[i, j] = info[\"power_output\"]\n",
    "\n",
    "        if terminated or truncated:\n",
    "            break\n",
    "    env.reset()\n",
    "\n",
    "np.save(\"data/SR_proportional_rewards.npy\", total_rewards)\n",
    "np.save(\"data/SR_proportional_powers.npy\", total_powers)\n",
    "\n",
    "# Evaluate agent in noisy environment\n",
    "obs, info = env.reset()\n",
    "total_rewards = np.zeros((EVAL_REPS, EPISODE_LEN))\n",
    "total_powers = np.zeros((EVAL_REPS, EPISODE_LEN))\n",
    "for i in tqdm.tqdm(range(EVAL_REPS)):\n",
    "    for j in range(EPISODE_LEN):\n",
    "        wind_direction = env.wind_process.wind_direction\n",
    "        current_yaws = env.yaws_from_wind\n",
    "\n",
    "        # Add noise to wind direction\n",
    "        wind_direction = wind_direction + np.random.normal(0, 5)\n",
    "\n",
    "        action = agent.predict(wind_direction, current_yaws)\n",
    "        obs, reward, terminated, truncated, info = env.step(action)\n",
    "\n",
    "        total_rewards[i, j] = reward\n",
    "        total_powers[i, j] = info[\"power_output\"]\n",
    "\n",
    "        if terminated or truncated:\n",
    "            break\n",
    "    env.reset()\n",
    "\n",
    "np.save(\"data/SR_proportional_noisy_rewards.npy\", total_rewards)\n",
    "np.save(\"data/SR_proportional_noisy_powers.npy\", total_powers)"
   ]
  },
  {
   "cell_type": "markdown",
   "metadata": {},
   "source": [
    "### 4wt observation points dynamic ProportionalSR evaluation"
   ]
  },
  {
   "cell_type": "code",
   "execution_count": null,
   "metadata": {},
   "outputs": [],
   "source": [
    "from serial_refine_agent import SR_ProportionalController\n",
    "from env_utils import get_4wt_symmetric_env\n",
    "from config import EPISODE_LEN, EVAL_REPS\n",
    "\n",
    "import numpy as np\n",
    "import tqdm\n",
    "\n",
    "# Load agent and environment\n",
    "agent = SR_ProportionalController()\n",
    "env = get_4wt_symmetric_env(\n",
    "    episode_length=EPISODE_LEN, privileged=False, \n",
    "    changing_wind=True, action_representation=\"yaw\",\n",
    "    dynamic_mode=\"observation_points\")\n",
    "\n",
    "# Evaluate agent\n",
    "obs, info = env.reset()\n",
    "total_rewards = np.zeros((EVAL_REPS, EPISODE_LEN))\n",
    "total_powers = np.zeros((EVAL_REPS, EPISODE_LEN))\n",
    "for i in tqdm.tqdm(range(EVAL_REPS)):\n",
    "    for j in range(EPISODE_LEN):\n",
    "        wind_direction = env.wind_process.wind_direction\n",
    "        current_yaws = env.yaws_from_wind\n",
    "\n",
    "        action = agent.predict(wind_direction, current_yaws)\n",
    "        obs, reward, terminated, truncated, info = env.step(action)\n",
    "\n",
    "        total_rewards[i, j] = reward\n",
    "        total_powers[i, j] = info[\"power_output\"]\n",
    "\n",
    "        if terminated or truncated:\n",
    "            break\n",
    "    env.reset()\n",
    "\n",
    "np.save(\"data/SR_proportional_dyn_observation_points_rewards.npy\", total_rewards)\n",
    "np.save(\"data/SR_proportional_dyn_observation_points_powers.npy\", total_powers)"
   ]
  }
 ],
 "metadata": {
  "kernelspec": {
   "display_name": "windfarm",
   "language": "python",
   "name": "python3"
  },
  "language_info": {
   "name": "python",
   "version": "3.8.19"
  }
 },
 "nbformat": 4,
 "nbformat_minor": 2
}
