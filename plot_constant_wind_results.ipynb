{
 "cells": [
  {
   "cell_type": "code",
   "execution_count": 3,
   "metadata": {},
   "outputs": [],
   "source": [
    "from config import EPISODE_LEN\n",
    "import numpy as np\n",
    "\n",
    "def evaluate_constant_wind_model(env, model, model_name):\n",
    "    obs, info = env.reset()\n",
    "    print(obs)\n",
    "    done = False\n",
    "\n",
    "    degree_step = 3\n",
    "    evaluations = 360 // degree_step\n",
    "    total_rewards = np.zeros((evaluations, EPISODE_LEN))\n",
    "    total_powers = np.zeros((evaluations, EPISODE_LEN))\n",
    "    _, info = env.reset()\n",
    "    for i in range(evaluations):\n",
    "        for j in range(EPISODE_LEN):\n",
    "            action, _states = model.predict(obs)\n",
    "            if i == 0 and j < 5:\n",
    "                #env.render()\n",
    "                print(obs, len(obs))\n",
    "            obs, reward, terminated, truncated, info = env.step(action)\n",
    "            total_rewards[i, j] = reward\n",
    "            total_powers[i, j] = info[\"power_output\"]\n",
    "            if terminated or truncated:\n",
    "                break\n",
    "        for _ in range(degree_step):\n",
    "            obs, info = env.reset()\n",
    "    # Save the rewards\n",
    "    np.save(f\"data/results/{model_name}_rewards.npy\", total_rewards)\n",
    "    np.save(f\"data/results/{model_name}_powers.npy\", total_powers)"
   ]
  },
  {
   "cell_type": "code",
   "execution_count": null,
   "metadata": {},
   "outputs": [],
   "source": [
    "from env_utils import get_4wt_symmetric_env\n",
    "from stable_baselines3 import PPO\n",
    "\n",
    "env = get_4wt_symmetric_env(episode_length=EPISODE_LEN, privileged=False, sorted_wind=True, load_pyglet_visualization=True)\n",
    "model = PPO.load(\"models/4wt_symmetric_model\")\n",
    "\n",
    "evaluate_constant_wind_model(env, model, \"constant_wind_model\")\n"
   ]
  }
 ],
 "metadata": {
  "kernelspec": {
   "display_name": "windfarm",
   "language": "python",
   "name": "python3"
  },
  "language_info": {
   "codemirror_mode": {
    "name": "ipython",
    "version": 3
   },
   "file_extension": ".py",
   "mimetype": "text/x-python",
   "name": "python",
   "nbconvert_exporter": "python",
   "pygments_lexer": "ipython3",
   "version": "3.8.19"
  }
 },
 "nbformat": 4,
 "nbformat_minor": 2
}
