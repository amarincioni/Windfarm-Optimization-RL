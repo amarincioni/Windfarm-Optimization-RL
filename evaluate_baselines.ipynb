{
 "cells": [
  {
   "cell_type": "markdown",
   "metadata": {},
   "source": [
    "### First, load the evaluation wind processes"
   ]
  },
  {
   "cell_type": "code",
   "execution_count": null,
   "metadata": {},
   "outputs": [],
   "source": [
    "import numpy as np\n",
    "from config import *\n",
    "from env_utils import get_4wt_symmetric_env, get_lhs_env\n",
    "from serial_refine_agent import SR_ProportionalController\n",
    "\n",
    "# Settings\n",
    "VERBOSE_EVAL = False\n",
    "RANDOM_AGENT_REPS = 10\n",
    "\n",
    "from utils import EVAL_WIND_DIRECTIONS, EVAL_WIND_SPEEDS, EVAL_FIXED_WIND_DIRECTIONS, EVAL_FIXED_WIND_SPEEDS, EVAL_RENDER_WIND_DIRECTIONS, EVAL_RENDER_WIND_SPEEDS, EVAL_RENDER_FIXED_WIND_DIRECTIONS, EVAL_RENDER_FIXED_WIND_SPEEDS, evaluate_model, render_model, get_propSR_action, get_noisy_propSR_action, get_model_action, get_nondeterministic_model_action, get_naive_action, get_random_action\n",
    "\n",
    "def get_base_env(env_type, is_propsr=False, dynamic=False, privileged=False):\n",
    "    action_representation = \"yaw\" if is_propsr else \"wind\"\n",
    "    dynamic_mode = None if not dynamic else \"observation_points\"\n",
    "    if env_type == \"4Symm\":\n",
    "        env = get_4wt_symmetric_env(episode_length=EPISODE_LEN, privileged=privileged, changing_wind=True, \n",
    "            action_representation=action_representation, load_pyglet_visualization=True, dynamic_mode=dynamic_mode)\n",
    "    elif env_type == \"8LHS\":\n",
    "        env = get_lhs_env(\"lhs_env_nt8_md150_wb750x750\", privileged=privileged, changing_wind=True, \n",
    "            load_pyglet_visualization=True, action_representation=action_representation, dynamic_mode=dynamic_mode)\n",
    "    elif env_type == \"16LHS\":\n",
    "        env = get_lhs_env(\"lhs_env_nt16_md75_wb1500x1500\", privileged=privileged, changing_wind=True, \n",
    "                load_pyglet_visualization=True, action_representation=action_representation, dynamic_mode=dynamic_mode)\n",
    "    return env\n",
    "\n",
    "def get_propsr_agent(env_type):\n",
    "    if env_type == \"4Symm\":\n",
    "        return SR_ProportionalController()\n",
    "    elif env_type == \"8LHS\":\n",
    "        return SR_ProportionalController(\n",
    "            wind_directions=np.load(\"data/serial_refine/lhs8_wind_direction.npy\"),\n",
    "            optimal_yaws=np.load(\"data/serial_refine/lhs8_yaw_angles_opt.npy\"),\n",
    "        )\n",
    "    elif env_type == \"16LHS\":\n",
    "        return SR_ProportionalController(\n",
    "            wind_directions=np.load(\"data/serial_refine/lhs16_wind_direction.npy\"),\n",
    "            optimal_yaws=np.load(\"data/serial_refine/lhs16_yaw_angles_opt.npy\"),\n",
    "        )\n",
    "\n",
    "def save_scores_and_render(exp_name, env, agent_fn, n_seeds=1,\n",
    "        wind_directions=EVAL_WIND_DIRECTIONS, wind_speeds=EVAL_WIND_SPEEDS, \n",
    "        render_wind_directions=EVAL_RENDER_WIND_DIRECTIONS, render_wind_speeds=EVAL_RENDER_WIND_SPEEDS, \n",
    "        EVAL_REPS=EVAL_REPS, EPISODE_LEN=EPISODE_LEN):\n",
    "    print(f\"Evaluating model {exp_name}\")\n",
    "    video = render_model(env, agent_fn, render_wind_directions, render_wind_speeds, EPISODE_LEN)\n",
    "    video[0].save(f\"data/eval/renders/{exp_name}.gif\", save_all=True, append_images=video[1:], loop=0, duration=1000/30)\n",
    "    total_rewards, total_powers = evaluate_model(env, agent_fn, wind_directions, wind_speeds, EVAL_REPS, EPISODE_LEN, N_SEEDS=n_seeds)\n",
    "    np.save(f\"data/eval/scores/{exp_name}_total_rewards.npy\", total_rewards)\n",
    "    np.save(f\"data/eval/scores/{exp_name}_total_powers.npy\", total_powers)\n",
    "\n",
    "def save_fw_wind_rose(exp_name, env, agent_fn, n_angles=120, n_seeds=1):\n",
    "    wind_directions = [[int(angle)] for angle in np.linspace(0, 360, n_angles)]\n",
    "    wind_speeds = [[8.0] for _ in range(n_angles)]\n",
    "    print(f\"Evaluating model {exp_name}\")\n",
    "    total_rewards, total_powers = evaluate_model(env, agent_fn, wind_directions, wind_speeds, n_angles, EPISODE_LEN, N_SEEDS=n_seeds)\n",
    "    np.save(f\"data/eval/scores/fw_wind_rose/{exp_name}_total_rewards.npy\", total_rewards)\n",
    "    np.save(f\"data/eval/scores/fw_wind_rose/{exp_name}_total_powers.npy\", total_powers)\n",
    "    print(f\"Shape of total_rewards: {total_rewards.shape}\")"
   ]
  },
  {
   "cell_type": "markdown",
   "metadata": {},
   "source": [
    "### [FW] 4wt fixed wind results | PropSR, Naive, Random"
   ]
  },
  {
   "cell_type": "code",
   "execution_count": null,
   "metadata": {},
   "outputs": [],
   "source": [
    "for env_type in [\"4Symm\", \"8LHS\", \"16LHS\"]:\n",
    "    # #### Proportional SR \n",
    "    save_scores_and_render(f\"{env_type}_FW_PropSR\", get_base_env(env_type, is_propsr=True), get_propSR_action(get_propsr_agent(env_type)), \n",
    "        wind_directions=EVAL_FIXED_WIND_DIRECTIONS, wind_speeds=EVAL_FIXED_WIND_SPEEDS, \n",
    "        render_wind_directions=EVAL_RENDER_FIXED_WIND_DIRECTIONS, render_wind_speeds=EVAL_RENDER_FIXED_WIND_SPEEDS)\n",
    "    #### Naive \n",
    "    save_scores_and_render(f\"{env_type}_FW_Naive\", get_base_env(env_type), get_naive_action(), \n",
    "        wind_directions=EVAL_FIXED_WIND_DIRECTIONS, wind_speeds=EVAL_FIXED_WIND_SPEEDS, \n",
    "        render_wind_directions=EVAL_RENDER_FIXED_WIND_DIRECTIONS, render_wind_speeds=EVAL_RENDER_FIXED_WIND_SPEEDS)\n",
    "    #### Random\n",
    "    save_scores_and_render(f\"{env_type}_FW_Random\", get_base_env(env_type), get_random_action(), n_seeds=RANDOM_AGENT_REPS,\n",
    "        wind_directions=EVAL_FIXED_WIND_DIRECTIONS, wind_speeds=EVAL_FIXED_WIND_SPEEDS, \n",
    "        render_wind_directions=EVAL_RENDER_FIXED_WIND_DIRECTIONS, render_wind_speeds=EVAL_RENDER_FIXED_WIND_SPEEDS)"
   ]
  },
  {
   "cell_type": "markdown",
   "metadata": {},
   "source": [
    "### [FW] Wind roses computation"
   ]
  },
  {
   "cell_type": "code",
   "execution_count": null,
   "metadata": {},
   "outputs": [],
   "source": [
    "from serial_refine_agent import SR_ProportionalController\n",
    "from env_utils import get_4wt_symmetric_env\n",
    "from config import EPISODE_LEN\n",
    "\n",
    "for env_type in [\"4Symm\", \"8LHS\", \"16LHS\"]:\n",
    "    #### Proportional SR \n",
    "    save_fw_wind_rose(f\"{env_type}_FW_PropSR\", get_base_env(env_type, is_propsr=True), get_propSR_action(get_propsr_agent(env_type)))\n",
    "    #### Naive\n",
    "    save_fw_wind_rose(f\"{env_type}_FW_Naive\", get_base_env(env_type), get_naive_action())\n",
    "    #### Random\n",
    "    save_fw_wind_rose(f\"{env_type}_FW_Random\", get_base_env(env_type), get_random_action(), n_seeds=RANDOM_AGENT_REPS)"
   ]
  },
  {
   "cell_type": "markdown",
   "metadata": {},
   "source": [
    "### [FW] PPO scores and rose \n",
    "(local scores are not necessary, but it doesnt take long so i do it anyways)"
   ]
  },
  {
   "cell_type": "code",
   "execution_count": null,
   "metadata": {},
   "outputs": [],
   "source": [
    "from serial_refine_agent import SR_ProportionalController\n",
    "from env_utils import get_4wt_symmetric_env\n",
    "from config import EPISODE_LEN\n",
    "from stable_baselines3 import PPO\n",
    "\n",
    "models = [\n",
    "    (\"4Symm\", PPO.load(\"data/models/from_server/PPO_4wt_unprivileged_1.00M\")),\n",
    "    (\"8LHS\", PPO.load(\"data/models/from_server/PPO_8lhs_unprivileged_1.00M\")),\n",
    "    (\"16LHS\", PPO.load(\"data/models/from_server/PPO_16lhs_unprivileged_1.00M\")),\n",
    "]\n",
    "\n",
    "#### PPO\n",
    "for env_type, model in models:\n",
    "    save_scores_and_render(f\"{env_type}_FW_PPO_local\", get_base_env(env_type), get_model_action(model),\n",
    "        wind_directions=EVAL_FIXED_WIND_DIRECTIONS, wind_speeds=EVAL_FIXED_WIND_SPEEDS, \n",
    "        render_wind_directions=EVAL_RENDER_FIXED_WIND_DIRECTIONS, render_wind_speeds=EVAL_RENDER_FIXED_WIND_SPEEDS)\n",
    "    save_fw_wind_rose(f\"{env_type}_FW_PPO\", get_base_env(env_type), get_model_action(model))"
   ]
  },
  {
   "cell_type": "code",
   "execution_count": null,
   "metadata": {},
   "outputs": [],
   "source": [
    "print(np.array(EVAL_FIXED_WIND_DIRECTIONS).shape)\n",
    "\n",
    "print(\"NEXT three are new results to read for the first time\")\n",
    "scores = np.load(\"data/eval/scores/4Symm_FW_PPO_local_total_powers.npy\")\n",
    "print(f\"Scores shape: {scores.shape}\")\n",
    "print(f\"Mean: {np.mean(scores[0].sum(axis=1))}\")\n",
    "scores = np.load(\"data/eval/scores/8LHS_FW_PPO_local_total_powers.npy\")\n",
    "print(f\"Scores shape: {scores.shape}\")\n",
    "print(f\"Mean: {np.mean(scores[0].sum(axis=1))}\")\n",
    "scores = np.load(\"data/eval/scores/16LHS_FW_PPO_local_total_powers.npy\")\n",
    "print(f\"Scores shape: {scores.shape}\")\n",
    "print(f\"Mean: {np.mean(scores[0].sum(axis=1))}\")\n",
    "\n",
    "\n",
    "\n",
    "scores = np.load(\"data/eval/scores/4Symm_FW_PropSR_total_powers.npy\")\n",
    "print(f\"Scores shape: {scores.shape}\")\n",
    "print(f\"Mean: {np.mean(scores[0].sum(axis=1))}\")\n",
    "scores = np.load(\"data/eval/scores/4Symm_CW_PropSR_total_powers.npy\")\n",
    "print(f\"Scores shape: {scores.shape}\")\n",
    "print(f\"Mean: {np.mean(scores[0].sum(axis=1))}\")\n",
    "\n"
   ]
  },
  {
   "cell_type": "markdown",
   "metadata": {},
   "source": [
    "### [CW] PropSR, NoisyPropSR, Naive, Random"
   ]
  },
  {
   "cell_type": "code",
   "execution_count": null,
   "metadata": {},
   "outputs": [],
   "source": [
    "for env_type in [\"4Symm\", \"8LHS\", \"16LHS\"]:\n",
    "    #### Proportional SR \n",
    "    save_scores_and_render(f\"{env_type}_CW_PropSR\", get_base_env(env_type, is_propsr=True), get_propSR_action(get_propsr_agent(env_type)))\n",
    "    #### Proportional SR \n",
    "    save_scores_and_render(f\"{env_type}_CW_NoisyPropSR\", get_base_env(env_type, is_propsr=True), get_noisy_propSR_action(get_propsr_agent(env_type)))\n",
    "    #### Naive \n",
    "    save_scores_and_render(f\"{env_type}_CW_Naive\", get_base_env(env_type), get_naive_action())\n",
    "    #### Random\n",
    "    save_scores_and_render(f\"{env_type}_CW_Random\", get_base_env(env_type), get_random_action(), n_seeds=RANDOM_AGENT_REPS)"
   ]
  },
  {
   "cell_type": "markdown",
   "metadata": {},
   "source": [
    "### [CW] PPO models"
   ]
  },
  {
   "cell_type": "code",
   "execution_count": null,
   "metadata": {},
   "outputs": [],
   "source": [
    "# Actually just taken from wandb!\n",
    "\n",
    "# from stable_baselines3 import PPO\n",
    "# from env_utils import get_4wt_symmetric_env\n",
    "# from config import *\n",
    "# from wind_processes import SetSequenceWindProcess\n",
    "# from PIL import Image\n",
    "# import numpy as np\n",
    "# import tqdm\n",
    "\n",
    "# model = PPO.load(\"data/models/from_server/2_PPO_4wt_symmetric_unprivileged_cw_1.00M\")\n",
    "# # model = PPO.load(\"data/models/from_server/global_action_opt.zip\") # action_representation=\"yaw\",\n",
    "# # model = PPO.load(\"data/models/from_server/global_action_end.zip\") # action_representation=\"yaw\",\n",
    "\n",
    "# env = get_4wt_symmetric_env(episode_length=EPISODE_LEN, privileged=False, changing_wind=True, \n",
    "#     load_pyglet_visualization=True)\n",
    "\n",
    "# #### Deterministic PPO\n",
    "# save_scores_and_render(\"CW_PPO\", env, get_model_action(model))\n",
    "# ### Nondeterministic PPO\n",
    "# save_scores_and_render(\"CW_PPO_ND\", env, get_nondeterministic_model_action(model))"
   ]
  },
  {
   "cell_type": "markdown",
   "metadata": {},
   "source": [
    "### [DynOP] 4wt observation points | PropSR, Naive, Random"
   ]
  },
  {
   "cell_type": "code",
   "execution_count": null,
   "metadata": {},
   "outputs": [],
   "source": [
    "for env_type in [\"8LHS\", \"16LHS\"]: # (we dont consider 16LHS because it is too slow)\n",
    "# for env_type in [\"8LHS\"]:\n",
    "# for env_type in [\"4Symm\"]:\n",
    "    #### Proportional SR \n",
    "    save_scores_and_render(f\"{env_type}_DynOP_PropSR\", get_base_env(env_type, dynamic=True, is_propsr=True), get_propSR_action(get_propsr_agent(env_type)))\n",
    "    #### Naive\n",
    "    save_scores_and_render(f\"{env_type}_DynOP_Naive\", get_base_env(env_type, dynamic=True), get_naive_action()) \n",
    "    #### Random\n",
    "    save_scores_and_render(f\"{env_type}_DynOP_Random\", get_base_env(env_type, dynamic=True), get_random_action(),  n_seeds=RANDOM_AGENT_REPS)\n",
    "# env_type = \"8LHS\"\n",
    "# env = get_base_env(env_type, dynamic=True)\n",
    "# env.time_delta = 5\n",
    "# env.op_per_turbine = 5\n",
    "# save_scores_and_render(f\"{env_type}_DynOP_Naive\", env, get_naive_action()) "
   ]
  },
  {
   "cell_type": "markdown",
   "metadata": {},
   "source": [
    "### [DynOP] PPO evaluations"
   ]
  },
  {
   "cell_type": "code",
   "execution_count": null,
   "metadata": {},
   "outputs": [],
   "source": [
    "# May not need to be done as we have the data already in wandb!\n",
    "# Maybe just download it here!"
   ]
  }
 ],
 "metadata": {
  "kernelspec": {
   "display_name": "windfarm",
   "language": "python",
   "name": "python3"
  },
  "language_info": {
   "codemirror_mode": {
    "name": "ipython",
    "version": 3
   },
   "file_extension": ".py",
   "mimetype": "text/x-python",
   "name": "python",
   "nbconvert_exporter": "python",
   "pygments_lexer": "ipython3",
   "version": "3.8.19"
  }
 },
 "nbformat": 4,
 "nbformat_minor": 2
}
