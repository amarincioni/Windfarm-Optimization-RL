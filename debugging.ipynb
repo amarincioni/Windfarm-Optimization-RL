{
 "cells": [
  {
   "cell_type": "markdown",
   "metadata": {},
   "source": [
    "## Render environment for 50 steps"
   ]
  },
  {
   "cell_type": "code",
   "execution_count": null,
   "metadata": {},
   "outputs": [],
   "source": [
    "from env_utils import get_4wt_symmetric_env\n",
    "\n",
    "env = get_4wt_symmetric_env(load_pyglet_visualization=True)\n",
    "\n",
    "env.reset(wind_direction=270)\n",
    "\n",
    "for i in range(50):\n",
    "    env.step(env.action_space.sample())\n",
    "    env.render()\n",
    "env.close() "
   ]
  }
 ],
 "metadata": {
  "kernelspec": {
   "display_name": "windfarm",
   "language": "python",
   "name": "python3"
  },
  "language_info": {
   "name": "python",
   "version": "3.8.19"
  }
 },
 "nbformat": 4,
 "nbformat_minor": 2
}
